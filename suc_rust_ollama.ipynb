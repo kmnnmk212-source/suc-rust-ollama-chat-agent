{
  "nbformat": 4,
  "nbformat_minor": 0,
  "metadata": {
    "colab": {
      "provenance": []
    },
    "kernelspec": {
      "name": "python3",
      "display_name": "Python 3"
    },
    "language_info": {
      "name": "python"
    }
  },
  "cells": [
    {
      "cell_type": "code",
      "execution_count": null,
      "metadata": {
        "id": "j6RSWL_RWSm3"
      },
      "outputs": [],
      "source": []
    },
    {
      "cell_type": "code",
      "source": [],
      "metadata": {
        "id": "z-rdmoXJo-_D"
      },
      "execution_count": null,
      "outputs": []
    },
    {
      "cell_type": "code",
      "source": [],
      "metadata": {
        "id": "JL2meZQpo_Bw"
      },
      "execution_count": null,
      "outputs": []
    },
    {
      "cell_type": "code",
      "source": [
        "curl -fsSL https://ollama.com/install.sh | sh\n",
        "nohup ollama serve &\n",
        "ollama pull llama3:8b\n",
        "ollama list"
      ],
      "metadata": {
        "id": "kM5nyj8Bo_EA"
      },
      "execution_count": null,
      "outputs": []
    },
    {
      "cell_type": "code",
      "source": [
        "!curl -fsSL https://ollama.com/install.sh | sh"
      ],
      "metadata": {
        "colab": {
          "base_uri": "https://localhost:8080/"
        },
        "id": "4n-YI326pGQX",
        "outputId": "032a7109-cb64-41dd-ec1d-9fd16e3a89ac"
      },
      "execution_count": 6,
      "outputs": [
        {
          "output_type": "stream",
          "name": "stdout",
          "text": [
            ">>> Installing ollama to /usr/local\n",
            ">>> Downloading Linux amd64 bundle\n",
            "######################################################################## 100.0%\n",
            ">>> Creating ollama user...\n",
            ">>> Adding ollama user to video group...\n",
            ">>> Adding current user to ollama group...\n",
            ">>> Creating ollama systemd service...\n",
            "\u001b[1m\u001b[31mWARNING:\u001b[m systemd is not running\n",
            "\u001b[1m\u001b[31mWARNING:\u001b[m Unable to detect NVIDIA/AMD GPU. Install lspci or lshw to automatically detect and install GPU dependencies.\n",
            ">>> The Ollama API is now available at 127.0.0.1:11434.\n",
            ">>> Install complete. Run \"ollama\" from the command line.\n"
          ]
        }
      ]
    },
    {
      "cell_type": "code",
      "source": [
        "!nohup ollama serve &\n",
        "!ollama pull llama3.2"
      ],
      "metadata": {
        "colab": {
          "base_uri": "https://localhost:8080/"
        },
        "id": "wxlSVwORpICH",
        "outputId": "81d9534d-2242-442b-b8fb-7a255f70ca06"
      },
      "execution_count": 7,
      "outputs": [
        {
          "output_type": "stream",
          "name": "stdout",
          "text": [
            "nohup: appending output to 'nohup.out'\n",
            "\u001b[?2026h\u001b[?25l\u001b[1G\u001b[?25h\u001b[?2026l\u001b[?2026h\u001b[?25l\u001b[1G\u001b[?25h\u001b[?2026l\u001b[?2026h\u001b[?25l\u001b[1G\u001b[?25h\u001b[?2026l\u001b[?2026h\u001b[?25l\u001b[1G\u001b[?25h\u001b[?2026l\u001b[?2026h\u001b[?25l\u001b[1G\u001b[?25h\u001b[?2026l\u001b[?2026h\u001b[?25l\u001b[1G\u001b[?25h\u001b[?2026l\u001b[?2026h\u001b[?25l\u001b[1G\u001b[?25h\u001b[?2026l\u001b[?2026h\u001b[?25l\u001b[1G\u001b[?25h\u001b[?2026l\u001b[?2026h\u001b[?25l\u001b[A\u001b[1G\u001b[?25h\u001b[?2026l\u001b[?2026h\u001b[?25l\u001b[A\u001b[1G\u001b[?25h\u001b[?2026l\u001b[?2026h\u001b[?25l\u001b[A\u001b[1G\u001b[?25h\u001b[?2026l\u001b[?2026h\u001b[?25l\u001b[A\u001b[1G\u001b[?25h\u001b[?2026l\u001b[?2026h\u001b[?25l\u001b[A\u001b[1G\u001b[?25h\u001b[?2026l\u001b[?2026h\u001b[?25l\u001b[A\u001b[1G\u001b[?25h\u001b[?2026l\u001b[?2026h\u001b[?25l\u001b[A\u001b[1G\u001b[?25h\u001b[?2026l\u001b[?2026h\u001b[?25l\u001b[A\u001b[1G\u001b[?25h\u001b[?2026l\u001b[?2026h\u001b[?25l\u001b[A\u001b[1G\u001b[?25h\u001b[?2026l\u001b[?2026h\u001b[?25l\u001b[A\u001b[1G\u001b[?25h\u001b[?2026l\u001b[?2026h\u001b[?25l\u001b[A\u001b[1G\u001b[?25h\u001b[?2026l\u001b[?2026h\u001b[?25l\u001b[A\u001b[1G\u001b[?25h\u001b[?2026l\u001b[?2026h\u001b[?25l\u001b[A\u001b[1G\u001b[?25h\u001b[?2026l\u001b[?2026h\u001b[?25l\u001b[A\u001b[1G\u001b[?25h\u001b[?2026l\u001b[?2026h\u001b[?25l\u001b[A\u001b[1G\u001b[?25h\u001b[?2026l\u001b[?2026h\u001b[?25l\u001b[A\u001b[1G\u001b[?25h\u001b[?2026l\u001b[?2026h\u001b[?25l\u001b[A\u001b[1G\u001b[?25h\u001b[?2026l\u001b[?2026h\u001b[?25l\u001b[A\u001b[1G\u001b[?25h\u001b[?2026l\u001b[?2026h\u001b[?25l\u001b[A\u001b[1G\u001b[?25h\u001b[?2026l\u001b[?2026h\u001b[?25l\u001b[A\u001b[1G\u001b[?25h\u001b[?2026l\u001b[?2026h\u001b[?25l\u001b[A\u001b[1G\u001b[?25h\u001b[?2026l\u001b[?2026h\u001b[?25l\u001b[A\u001b[1G\u001b[?25h\u001b[?2026l\u001b[?2026h\u001b[?25l\u001b[A\u001b[1G\u001b[?25h\u001b[?2026l\u001b[?2026h\u001b[?25l\u001b[A\u001b[1G\u001b[?25h\u001b[?2026l\u001b[?2026h\u001b[?25l\u001b[A\u001b[1G\u001b[?25h\u001b[?2026l\u001b[?2026h\u001b[?25l\u001b[A\u001b[1G\u001b[?25h\u001b[?2026l\u001b[?2026h\u001b[?25l\u001b[A\u001b[1G\u001b[?25h\u001b[?2026l\u001b[?2026h\u001b[?25l\u001b[A\u001b[1G\u001b[?25h\u001b[?2026l\u001b[?2026h\u001b[?25l\u001b[A\u001b[1G\u001b[?25h\u001b[?2026l\u001b[?2026h\u001b[?25l\u001b[A\u001b[1G\u001b[?25h\u001b[?2026l\u001b[?2026h\u001b[?25l\u001b[A\u001b[1G\u001b[?25h\u001b[?2026l\u001b[?2026h\u001b[?25l\u001b[A\u001b[1G\u001b[?25h\u001b[?2026l\u001b[?2026h\u001b[?25l\u001b[A\u001b[1G\u001b[?25h\u001b[?2026l\u001b[?2026h\u001b[?25l\u001b[A\u001b[1G\u001b[?25h\u001b[?2026l\u001b[?2026h\u001b[?25l\u001b[A\u001b[1G\u001b[?25h\u001b[?2026l\u001b[?2026h\u001b[?25l\u001b[A\u001b[1G\u001b[?25h\u001b[?2026l\u001b[?2026h\u001b[?25l\u001b[A\u001b[1G\u001b[?25h\u001b[?2026l\u001b[?2026h\u001b[?25l\u001b[A\u001b[1G\u001b[?25h\u001b[?2026l\u001b[?2026h\u001b[?25l\u001b[A\u001b[1G\u001b[?25h\u001b[?2026l\u001b[?2026h\u001b[?25l\u001b[A\u001b[1G\u001b[?25h\u001b[?2026l\u001b[?2026h\u001b[?25l\u001b[A\u001b[1G\u001b[?25h\u001b[?2026l\u001b[?2026h\u001b[?25l\u001b[A\u001b[1G\u001b[?25h\u001b[?2026l\u001b[?2026h\u001b[?25l\u001b[A\u001b[1G\u001b[?25h\u001b[?2026l\u001b[?2026h\u001b[?25l\u001b[A\u001b[1G\u001b[?25h\u001b[?2026l\u001b[?2026h\u001b[?25l\u001b[A\u001b[1G\u001b[?25h\u001b[?2026l\u001b[?2026h\u001b[?25l\u001b[A\u001b[1G\u001b[?25h\u001b[?2026l\u001b[?2026h\u001b[?25l\u001b[A\u001b[1G\u001b[?25h\u001b[?2026l\u001b[?2026h\u001b[?25l\u001b[A\u001b[1G\u001b[?25h\u001b[?2026l\u001b[?2026h\u001b[?25l\u001b[A\u001b[1G\u001b[?25h\u001b[?2026l\u001b[?2026h\u001b[?25l\u001b[A\u001b[1G\u001b[?25h\u001b[?2026l\u001b[?2026h\u001b[?25l\u001b[A\u001b[1G\u001b[?25h\u001b[?2026l\u001b[?2026h\u001b[?25l\u001b[A\u001b[1G\u001b[?25h\u001b[?2026l\u001b[?2026h\u001b[?25l\u001b[A\u001b[1G\u001b[?25h\u001b[?2026l\u001b[?2026h\u001b[?25l\u001b[A\u001b[1G\u001b[?25h\u001b[?2026l\u001b[?2026h\u001b[?25l\u001b[A\u001b[1G\u001b[?25h\u001b[?2026l\u001b[?2026h\u001b[?25l\u001b[A\u001b[1G\u001b[?25h\u001b[?2026l\u001b[?2026h\u001b[?25l\u001b[A\u001b[1G\u001b[?25h\u001b[?2026l\u001b[?2026h\u001b[?25l\u001b[A\u001b[1G\u001b[?25h\u001b[?2026l\u001b[?2026h\u001b[?25l\u001b[A\u001b[1G\u001b[?25h\u001b[?2026l\u001b[?2026h\u001b[?25l\u001b[A\u001b[1G\u001b[?25h\u001b[?2026l\u001b[?2026h\u001b[?25l\u001b[A\u001b[1G\u001b[?25h\u001b[?2026l\u001b[?2026h\u001b[?25l\u001b[A\u001b[1G\u001b[?25h\u001b[?2026l\u001b[?2026h\u001b[?25l\u001b[A\u001b[1G\u001b[?25h\u001b[?2026l\u001b[?2026h\u001b[?25l\u001b[A\u001b[1G\u001b[?25h\u001b[?2026l\u001b[?2026h\u001b[?25l\u001b[A\u001b[1G\u001b[?25h\u001b[?2026l\u001b[?2026h\u001b[?25l\u001b[A\u001b[1G\u001b[?25h\u001b[?2026l\u001b[?2026h\u001b[?25l\u001b[A\u001b[1G\u001b[?25h\u001b[?2026l\u001b[?2026h\u001b[?25l\u001b[A\u001b[1G\u001b[?25h\u001b[?2026l\u001b[?2026h\u001b[?25l\u001b[A\u001b[1G\u001b[?25h\u001b[?2026l\u001b[?2026h\u001b[?25l\u001b[A\u001b[1G\u001b[?25h\u001b[?2026l\u001b[?2026h\u001b[?25l\u001b[A\u001b[1G\u001b[?25h\u001b[?2026l\u001b[?2026h\u001b[?25l\u001b[A\u001b[1G\u001b[?25h\u001b[?2026l\u001b[?2026h\u001b[?25l\u001b[A\u001b[1G\u001b[?25h\u001b[?2026l\u001b[?2026h\u001b[?25l\u001b[A\u001b[1G\u001b[?25h\u001b[?2026l\u001b[?2026h\u001b[?25l\u001b[A\u001b[1G\u001b[?25h\u001b[?2026l\u001b[?2026h\u001b[?25l\u001b[A\u001b[1G\u001b[?25h\u001b[?2026l\u001b[?2026h\u001b[?25l\u001b[A\u001b[1G\u001b[?25h\u001b[?2026l\u001b[?2026h\u001b[?25l\u001b[A\u001b[1G\u001b[?25h\u001b[?2026l\u001b[?2026h\u001b[?25l\u001b[A\u001b[1G\u001b[?25h\u001b[?2026l\u001b[?2026h\u001b[?25l\u001b[A\u001b[1G\u001b[?25h\u001b[?2026l\u001b[?2026h\u001b[?25l\u001b[A\u001b[1G\u001b[?25h\u001b[?2026l\u001b[?2026h\u001b[?25l\u001b[A\u001b[1G\u001b[?25h\u001b[?2026l\u001b[?2026h\u001b[?25l\u001b[A\u001b[1G\u001b[?25h\u001b[?2026l\u001b[?2026h\u001b[?25l\u001b[A\u001b[1G\u001b[?25h\u001b[?2026l\u001b[?2026h\u001b[?25l\u001b[A\u001b[1G\u001b[?25h\u001b[?2026l\u001b[?2026h\u001b[?25l\u001b[A\u001b[1G\u001b[?25h\u001b[?2026l\u001b[?2026h\u001b[?25l\u001b[A\u001b[1G\u001b[?25h\u001b[?2026l\u001b[?2026h\u001b[?25l\u001b[A\u001b[1G\u001b[?25h\u001b[?2026l\u001b[?2026h\u001b[?25l\u001b[A\u001b[1G\u001b[?25h\u001b[?2026l\u001b[?2026h\u001b[?25l\u001b[A\u001b[1G\u001b[?25h\u001b[?2026l\u001b[?2026h\u001b[?25l\u001b[A\u001b[1G\u001b[?25h\u001b[?2026l\u001b[?2026h\u001b[?25l\u001b[A\u001b[1G\u001b[?25h\u001b[?2026l\u001b[?2026h\u001b[?25l\u001b[A\u001b[1G\u001b[?25h\u001b[?2026l\u001b[?2026h\u001b[?25l\u001b[A\u001b[1G\u001b[?25h\u001b[?2026l\u001b[?2026h\u001b[?25l\u001b[A\u001b[1G\u001b[?25h\u001b[?2026l\u001b[?2026h\u001b[?25l\u001b[A\u001b[1G\u001b[?25h\u001b[?2026l\u001b[?2026h\u001b[?25l\u001b[A\u001b[1G\u001b[?25h\u001b[?2026l\u001b[?2026h\u001b[?25l\u001b[A\u001b[1G\u001b[?25h\u001b[?2026l\u001b[?2026h\u001b[?25l\u001b[A\u001b[1G\u001b[?25h\u001b[?2026l\u001b[?2026h\u001b[?25l\u001b[A\u001b[1G\u001b[?25h\u001b[?2026l\u001b[?2026h\u001b[?25l\u001b[A\u001b[1G\u001b[?25h\u001b[?2026l\u001b[?2026h\u001b[?25l\u001b[A\u001b[1G\u001b[?25h\u001b[?2026l\u001b[?2026h\u001b[?25l\u001b[A\u001b[A\u001b[1G\u001b[?25h\u001b[?2026l\u001b[?2026h\u001b[?25l\u001b[A\u001b[A\u001b[1G\u001b[?25h\u001b[?2026l\u001b[?2026h\u001b[?25l\u001b[A\u001b[A\u001b[1G\u001b[?25h\u001b[?2026l\u001b[?2026h\u001b[?25l\u001b[A\u001b[A\u001b[1G\u001b[?25h\u001b[?2026l\u001b[?2026h\u001b[?25l\u001b[A\u001b[A\u001b[1G\u001b[?25h\u001b[?2026l\u001b[?2026h\u001b[?25l\u001b[A\u001b[A\u001b[1G\u001b[?25h\u001b[?2026l\u001b[?2026h\u001b[?25l\u001b[A\u001b[A\u001b[1G\u001b[?25h\u001b[?2026l\u001b[?2026h\u001b[?25l\u001b[A\u001b[A\u001b[1G\u001b[?25h\u001b[?2026l\u001b[?2026h\u001b[?25l\u001b[A\u001b[A\u001b[1G\u001b[?25h\u001b[?2026l\u001b[?2026h\u001b[?25l\u001b[A\u001b[A\u001b[1G\u001b[?25h\u001b[?2026l\u001b[?2026h\u001b[?25l\u001b[A\u001b[A\u001b[1G\u001b[?25h\u001b[?2026l\u001b[?2026h\u001b[?25l\u001b[A\u001b[A\u001b[1G\u001b[?25h\u001b[?2026l\u001b[?2026h\u001b[?25l\u001b[A\u001b[A\u001b[1G\u001b[?25h\u001b[?2026l\u001b[?2026h\u001b[?25l\u001b[A\u001b[A\u001b[A\u001b[1G\u001b[?25h\u001b[?2026l\u001b[?2026h\u001b[?25l\u001b[A\u001b[A\u001b[A\u001b[1G\u001b[?25h\u001b[?2026l\u001b[?2026h\u001b[?25l\u001b[A\u001b[A\u001b[A\u001b[1G\u001b[?25h\u001b[?2026l\u001b[?2026h\u001b[?25l\u001b[A\u001b[A\u001b[A\u001b[1G\u001b[?25h\u001b[?2026l\u001b[?2026h\u001b[?25l\u001b[A\u001b[A\u001b[A\u001b[1G\u001b[?25h\u001b[?2026l\u001b[?2026h\u001b[?25l\u001b[A\u001b[A\u001b[A\u001b[1G\u001b[?25h\u001b[?2026l\u001b[?2026h\u001b[?25l\u001b[A\u001b[A\u001b[A\u001b[1G\u001b[?25h\u001b[?2026l\u001b[?2026h\u001b[?25l\u001b[A\u001b[A\u001b[A\u001b[1G\u001b[?25h\u001b[?2026l\u001b[?2026h\u001b[?25l\u001b[A\u001b[A\u001b[A\u001b[1G\u001b[?25h\u001b[?2026l\u001b[?2026h\u001b[?25l\u001b[A\u001b[A\u001b[A\u001b[1G\u001b[?25h\u001b[?2026l\u001b[?2026h\u001b[?25l\u001b[A\u001b[A\u001b[A\u001b[1G\u001b[?25h\u001b[?2026l\u001b[?2026h\u001b[?25l\u001b[A\u001b[A\u001b[A\u001b[1G\u001b[?25h\u001b[?2026l\u001b[?2026h\u001b[?25l\u001b[A\u001b[A\u001b[A\u001b[A\u001b[1G\u001b[?25h\u001b[?2026l\u001b[?2026h\u001b[?25l\u001b[A\u001b[A\u001b[A\u001b[A\u001b[1G\u001b[?25h\u001b[?2026l\u001b[?2026h\u001b[?25l\u001b[A\u001b[A\u001b[A\u001b[A\u001b[1G\u001b[?25h\u001b[?2026l\u001b[?2026h\u001b[?25l\u001b[A\u001b[A\u001b[A\u001b[A\u001b[1G\u001b[?25h\u001b[?2026l\u001b[?2026h\u001b[?25l\u001b[A\u001b[A\u001b[A\u001b[A\u001b[1G\u001b[?25h\u001b[?2026l\u001b[?2026h\u001b[?25l\u001b[A\u001b[A\u001b[A\u001b[A\u001b[1G\u001b[?25h\u001b[?2026l\u001b[?2026h\u001b[?25l\u001b[A\u001b[A\u001b[A\u001b[A\u001b[1G\u001b[?25h\u001b[?2026l\u001b[?2026h\u001b[?25l\u001b[A\u001b[A\u001b[A\u001b[A\u001b[1G\u001b[?25h\u001b[?2026l\u001b[?2026h\u001b[?25l\u001b[A\u001b[A\u001b[A\u001b[A\u001b[1G\u001b[?25h\u001b[?2026l\u001b[?2026h\u001b[?25l\u001b[A\u001b[A\u001b[A\u001b[A\u001b[1G\u001b[?25h\u001b[?2026l\u001b[?2026h\u001b[?25l\u001b[A\u001b[A\u001b[A\u001b[A\u001b[1G\u001b[?25h\u001b[?2026l\u001b[?2026h\u001b[?25l\u001b[A\u001b[A\u001b[A\u001b[A\u001b[A\u001b[1G\u001b[?25h\u001b[?2026l\u001b[?2026h\u001b[?25l\u001b[A\u001b[A\u001b[A\u001b[A\u001b[A\u001b[1G\u001b[?25h\u001b[?2026l\u001b[?2026h\u001b[?25l\u001b[A\u001b[A\u001b[A\u001b[A\u001b[A\u001b[1G\u001b[?25h\u001b[?2026l\u001b[?2026h\u001b[?25l\u001b[A\u001b[A\u001b[A\u001b[A\u001b[A\u001b[1G\u001b[?25h\u001b[?2026l\u001b[?2026h\u001b[?25l\u001b[A\u001b[A\u001b[A\u001b[A\u001b[A\u001b[1G\u001b[?25h\u001b[?2026l\u001b[?2026h\u001b[?25l\u001b[A\u001b[A\u001b[A\u001b[A\u001b[A\u001b[1G\u001b[?25h\u001b[?2026l\u001b[?2026h\u001b[?25l\u001b[A\u001b[A\u001b[A\u001b[A\u001b[A\u001b[1G\u001b[?25h\u001b[?2026l\u001b[?2026h\u001b[?25l\u001b[A\u001b[A\u001b[A\u001b[A\u001b[A\u001b[1G\u001b[?25h\u001b[?2026l\u001b[?2026h\u001b[?25l\u001b[A\u001b[A\u001b[A\u001b[A\u001b[A\u001b[1G\u001b[?25h\u001b[?2026l\u001b[?2026h\u001b[?25l\u001b[A\u001b[A\u001b[A\u001b[A\u001b[A\u001b[1G\u001b[?25h\u001b[?2026l\u001b[?2026h\u001b[?25l\u001b[A\u001b[A\u001b[A\u001b[A\u001b[A\u001b[1G\u001b[?25h\u001b[?2026l\u001b[?2026h\u001b[?25l\u001b[A\u001b[A\u001b[A\u001b[A\u001b[A\u001b[1G\u001b[?25h\u001b[?2026l\u001b[?2026h\u001b[?25l\u001b[A\u001b[A\u001b[A\u001b[A\u001b[A\u001b[A\u001b[1G\u001b[?25h\u001b[?2026l\u001b[?2026h\u001b[?25l\u001b[A\u001b[A\u001b[A\u001b[A\u001b[A\u001b[A\u001b[1G\u001b[?25h\u001b[?2026l\u001b[?2026h\u001b[?25l\u001b[A\u001b[A\u001b[A\u001b[A\u001b[A\u001b[A\u001b[1G\u001b[?25h\u001b[?2026l\u001b[?2026h\u001b[?25l\u001b[A\u001b[A\u001b[A\u001b[A\u001b[A\u001b[A\u001b[1G\u001b[?25h\u001b[?2026l\u001b[?2026h\u001b[?25l\u001b[A\u001b[A\u001b[A\u001b[A\u001b[A\u001b[A\u001b[1G\u001b[?25h\u001b[?2026l\u001b[?2026h\u001b[?25l\u001b[A\u001b[A\u001b[A\u001b[A\u001b[A\u001b[A\u001b[1G\u001b[?25h\u001b[?2026l\u001b[?2026h\u001b[?25l\u001b[A\u001b[A\u001b[A\u001b[A\u001b[A\u001b[A\u001b[1G\u001b[?25h\u001b[?2026l\u001b[?2026h\u001b[?25l\u001b[A\u001b[A\u001b[A\u001b[A\u001b[A\u001b[A\u001b[1G\u001b[?25h\u001b[?2026l\u001b[?2026h\u001b[?25l\u001b[A\u001b[A\u001b[A\u001b[A\u001b[A\u001b[A\u001b[1G\u001b[?25h\u001b[?2026l\u001b[?2026h\u001b[?25l\u001b[A\u001b[A\u001b[A\u001b[A\u001b[A\u001b[A\u001b[A\u001b[1G\u001b[?25h\u001b[?2026l\u001b[?2026h\u001b[?25l\u001b[A\u001b[A\u001b[A\u001b[A\u001b[A\u001b[A\u001b[A\u001b[1G\u001b[?25h\u001b[?2026l\u001b[?2026h\u001b[?25l\u001b[A\u001b[A\u001b[A\u001b[A\u001b[A\u001b[A\u001b[A\u001b[1G\u001b[?25h\u001b[?2026l\u001b[?2026h\u001b[?25l\u001b[A\u001b[A\u001b[A\u001b[A\u001b[A\u001b[A\u001b[A\u001b[1G\u001b[?25h\u001b[?2026l\u001b[?2026h\u001b[?25l\u001b[A\u001b[A\u001b[A\u001b[A\u001b[A\u001b[A\u001b[A\u001b[1G\u001b[?25h\u001b[?2026l\u001b[?2026h\u001b[?25l\u001b[A\u001b[A\u001b[A\u001b[A\u001b[A\u001b[A\u001b[A\u001b[1G\u001b[?25h\u001b[?2026l\u001b[?2026h\u001b[?25l\u001b[A\u001b[A\u001b[A\u001b[A\u001b[A\u001b[A\u001b[A\u001b[1G\u001b[?25h\u001b[?2026l\u001b[?2026h\u001b[?25l\u001b[A\u001b[A\u001b[A\u001b[A\u001b[A\u001b[A\u001b[A\u001b[1G\u001b[?25h\u001b[?2026l\u001b[?2026h\u001b[?25l\u001b[A\u001b[A\u001b[A\u001b[A\u001b[A\u001b[A\u001b[A\u001b[1G\u001b[?25h\u001b[?2026l\u001b[?2026h\u001b[?25l\u001b[A\u001b[A\u001b[A\u001b[A\u001b[A\u001b[A\u001b[A\u001b[1G\u001b[?25h\u001b[?2026l\u001b[?2026h\u001b[?25l\u001b[A\u001b[A\u001b[A\u001b[A\u001b[A\u001b[A\u001b[A\u001b[1G\u001b[?25h\u001b[?2026l\u001b[?2026h\u001b[?25l\u001b[A\u001b[A\u001b[A\u001b[A\u001b[A\u001b[A\u001b[A\u001b[1G\u001b[?25h\u001b[?2026l\u001b[?2026h\u001b[?25l\u001b[A\u001b[A\u001b[A\u001b[A\u001b[A\u001b[A\u001b[A\u001b[1G\u001b[?25h\u001b[?2026l\u001b[?2026h\u001b[?25l\u001b[A\u001b[A\u001b[A\u001b[A\u001b[A\u001b[A\u001b[A\u001b[1G\u001b[?25h\u001b[?2026l\u001b[?2026h\u001b[?25l\u001b[A\u001b[A\u001b[A\u001b[A\u001b[A\u001b[A\u001b[A\u001b[1G\u001b[?25h\u001b[?2026l\u001b[?2026h\u001b[?25l\u001b[A\u001b[A\u001b[A\u001b[A\u001b[A\u001b[A\u001b[A\u001b[1G\u001b[?25h\u001b[?2026l\u001b[?2026h\u001b[?25l\u001b[A\u001b[A\u001b[A\u001b[A\u001b[A\u001b[A\u001b[A\u001b[1G\u001b[?25h\u001b[?2026l\u001b[?2026h\u001b[?25l\u001b[A\u001b[A\u001b[A\u001b[A\u001b[A\u001b[A\u001b[A\u001b[1G\u001b[?25h\u001b[?2026l\u001b[?2026h\u001b[?25l\u001b[A\u001b[A\u001b[A\u001b[A\u001b[A\u001b[A\u001b[A\u001b[1G\u001b[?25h\u001b[?2026l\u001b[?2026h\u001b[?25l\u001b[A\u001b[A\u001b[A\u001b[A\u001b[A\u001b[A\u001b[A\u001b[1G\u001b[?25h\u001b[?2026l\u001b[?2026h\u001b[?25l\u001b[A\u001b[A\u001b[A\u001b[A\u001b[A\u001b[A\u001b[A\u001b[1G\u001b[?25h\u001b[?2026l\u001b[?2026h\u001b[?25l\u001b[A\u001b[A\u001b[A\u001b[A\u001b[A\u001b[A\u001b[A\u001b[1G\u001b[?25h\u001b[?2026l\u001b[?2026h\u001b[?25l\u001b[A\u001b[A\u001b[A\u001b[A\u001b[A\u001b[A\u001b[A\u001b[1G\u001b[?25h\u001b[?2026l\u001b[?2026h\u001b[?25l\u001b[A\u001b[A\u001b[A\u001b[A\u001b[A\u001b[A\u001b[A\u001b[1G\u001b[?25h\u001b[?2026l\u001b[?2026h\u001b[?25l\u001b[A\u001b[A\u001b[A\u001b[A\u001b[A\u001b[A\u001b[A\u001b[1G\u001b[?25h\u001b[?2026l\u001b[?2026h\u001b[?25l\u001b[A\u001b[A\u001b[A\u001b[A\u001b[A\u001b[A\u001b[A\u001b[1G\u001b[?25h\u001b[?2026l\u001b[?2026h\u001b[?25l\u001b[A\u001b[A\u001b[A\u001b[A\u001b[A\u001b[A\u001b[A\u001b[1G\u001b[?25h\u001b[?2026l\u001b[?2026h\u001b[?25l\u001b[A\u001b[A\u001b[A\u001b[A\u001b[A\u001b[A\u001b[A\u001b[1G\u001b[?25h\u001b[?2026l\u001b[?2026h\u001b[?25l\u001b[A\u001b[A\u001b[A\u001b[A\u001b[A\u001b[A\u001b[A\u001b[1G\u001b[?25h\u001b[?2026l\u001b[?2026h\u001b[?25l\u001b[A\u001b[A\u001b[A\u001b[A\u001b[A\u001b[A\u001b[A\u001b[1G\u001b[?25h\u001b[?2026l\u001b[?2026h\u001b[?25l\u001b[A\u001b[A\u001b[A\u001b[A\u001b[A\u001b[A\u001b[A\u001b[1G\u001b[?25h\u001b[?2026l\u001b[?2026h\u001b[?25l\u001b[A\u001b[A\u001b[A\u001b[A\u001b[A\u001b[A\u001b[A\u001b[1G\u001b[?25h\u001b[?2026l\u001b[?2026h\u001b[?25l\u001b[A\u001b[A\u001b[A\u001b[A\u001b[A\u001b[A\u001b[A\u001b[1G\u001b[?25h\u001b[?2026l\u001b[?2026h\u001b[?25l\u001b[A\u001b[A\u001b[A\u001b[A\u001b[A\u001b[A\u001b[A\u001b[1G\u001b[?25h\u001b[?2026l\u001b[?2026h\u001b[?25l\u001b[A\u001b[A\u001b[A\u001b[A\u001b[A\u001b[A\u001b[A\u001b[1G\u001b[?25h\u001b[?2026l\u001b[?2026h\u001b[?25l\u001b[A\u001b[A\u001b[A\u001b[A\u001b[A\u001b[A\u001b[A\u001b[1G\u001b[?25h\u001b[?2026l\u001b[?2026h\u001b[?25l\u001b[A\u001b[A\u001b[A\u001b[A\u001b[A\u001b[A\u001b[A\u001b[1G\u001b[?25h\u001b[?2026l\u001b[?2026h\u001b[?25l\u001b[A\u001b[A\u001b[A\u001b[A\u001b[A\u001b[A\u001b[A\u001b[1G\u001b[?25h\u001b[?2026l\u001b[?2026h\u001b[?25l\u001b[A\u001b[A\u001b[A\u001b[A\u001b[A\u001b[A\u001b[A\u001b[1G\u001b[?25h\u001b[?2026l\u001b[?2026h\u001b[?25l\u001b[A\u001b[A\u001b[A\u001b[A\u001b[A\u001b[A\u001b[A\u001b[1G\u001b[?25h\u001b[?2026l\u001b[?2026h\u001b[?25l\u001b[A\u001b[A\u001b[A\u001b[A\u001b[A\u001b[A\u001b[A\u001b[1G\u001b[?25h\u001b[?2026l\u001b[?2026h\u001b[?25l\u001b[A\u001b[A\u001b[A\u001b[A\u001b[A\u001b[A\u001b[A\u001b[1G\u001b[?25h\u001b[?2026l\u001b[?2026h\u001b[?25l\u001b[A\u001b[A\u001b[A\u001b[A\u001b[A\u001b[A\u001b[A\u001b[1G\u001b[?25h\u001b[?2026l\u001b[?2026h\u001b[?25l\u001b[A\u001b[A\u001b[A\u001b[A\u001b[A\u001b[A\u001b[A\u001b[1G\u001b[?25h\u001b[?2026l\u001b[?2026h\u001b[?25l\u001b[A\u001b[A\u001b[A\u001b[A\u001b[A\u001b[A\u001b[A\u001b[1G\u001b[?25h\u001b[?2026l\u001b[?2026h\u001b[?25l\u001b[A\u001b[A\u001b[A\u001b[A\u001b[A\u001b[A\u001b[A\u001b[1G\u001b[?25h\u001b[?2026l\u001b[?2026h\u001b[?25l\u001b[A\u001b[A\u001b[A\u001b[A\u001b[A\u001b[A\u001b[A\u001b[1G\u001b[?25h\u001b[?2026l\u001b[?2026h\u001b[?25l\u001b[A\u001b[A\u001b[A\u001b[A\u001b[A\u001b[A\u001b[A\u001b[1G\u001b[?25h\u001b[?2026l\u001b[?2026h\u001b[?25l\u001b[A\u001b[A\u001b[A\u001b[A\u001b[A\u001b[A\u001b[A\u001b[1G\u001b[?25h\u001b[?2026l\u001b[?2026h\u001b[?25l\u001b[A\u001b[A\u001b[A\u001b[A\u001b[A\u001b[A\u001b[A\u001b[1G\u001b[?25h\u001b[?2026l\u001b[?2026h\u001b[?25l\u001b[A\u001b[A\u001b[A\u001b[A\u001b[A\u001b[A\u001b[A\u001b[1G\u001b[?25h\u001b[?2026l\u001b[?2026h\u001b[?25l\u001b[A\u001b[A\u001b[A\u001b[A\u001b[A\u001b[A\u001b[A\u001b[1G\u001b[?25h\u001b[?2026l\u001b[?2026h\u001b[?25l\u001b[A\u001b[A\u001b[A\u001b[A\u001b[A\u001b[A\u001b[A\u001b[1G\u001b[?25h\u001b[?2026l\u001b[?2026h\u001b[?25l\u001b[A\u001b[A\u001b[A\u001b[A\u001b[A\u001b[A\u001b[A\u001b[1G\u001b[?25h\u001b[?2026l\u001b[?2026h\u001b[?25l\u001b[A\u001b[A\u001b[A\u001b[A\u001b[A\u001b[A\u001b[A\u001b[1G\u001b[?25h\u001b[?2026l\u001b[?2026h\u001b[?25l\u001b[A\u001b[A\u001b[A\u001b[A\u001b[A\u001b[A\u001b[A\u001b[1G\u001b[?25h\u001b[?2026l\u001b[?2026h\u001b[?25l\u001b[A\u001b[A\u001b[A\u001b[A\u001b[A\u001b[A\u001b[A\u001b[1G\u001b[?25h\u001b[?2026l\u001b[?2026h\u001b[?25l\u001b[A\u001b[A\u001b[A\u001b[A\u001b[A\u001b[A\u001b[A\u001b[1G\u001b[?25h\u001b[?2026l\u001b[?2026h\u001b[?25l\u001b[A\u001b[A\u001b[A\u001b[A\u001b[A\u001b[A\u001b[A\u001b[1G\u001b[?25h\u001b[?2026l\u001b[?2026h\u001b[?25l\u001b[A\u001b[A\u001b[A\u001b[A\u001b[A\u001b[A\u001b[A\u001b[1G\u001b[?25h\u001b[?2026l\u001b[?2026h\u001b[?25l\u001b[A\u001b[A\u001b[A\u001b[A\u001b[A\u001b[A\u001b[A\u001b[1G\u001b[?25h\u001b[?2026l\u001b[?2026h\u001b[?25l\u001b[A\u001b[A\u001b[A\u001b[A\u001b[A\u001b[A\u001b[A\u001b[1G\u001b[?25h\u001b[?2026l\u001b[?2026h\u001b[?25l\u001b[A\u001b[A\u001b[A\u001b[A\u001b[A\u001b[A\u001b[A\u001b[1G\u001b[?25h\u001b[?2026l\u001b[?2026h\u001b[?25l\u001b[A\u001b[A\u001b[A\u001b[A\u001b[A\u001b[A\u001b[A\u001b[1G\u001b[?25h\u001b[?2026l\u001b[?2026h\u001b[?25l\u001b[A\u001b[A\u001b[A\u001b[A\u001b[A\u001b[A\u001b[A\u001b[1G\u001b[?25h\u001b[?2026l\u001b[?2026h\u001b[?25l\u001b[A\u001b[A\u001b[A\u001b[A\u001b[A\u001b[A\u001b[A\u001b[1G\u001b[?25h\u001b[?2026l\u001b[?2026h\u001b[?25l\u001b[A\u001b[A\u001b[A\u001b[A\u001b[A\u001b[A\u001b[A\u001b[1G\u001b[?25h\u001b[?2026l\u001b[?2026h\u001b[?25l\u001b[A\u001b[A\u001b[A\u001b[A\u001b[A\u001b[A\u001b[A\u001b[1G\u001b[?25h\u001b[?2026l\u001b[?2026h\u001b[?25l\u001b[A\u001b[A\u001b[A\u001b[A\u001b[A\u001b[A\u001b[A\u001b[1G\u001b[?25h\u001b[?2026l\u001b[?2026h\u001b[?25l\u001b[A\u001b[A\u001b[A\u001b[A\u001b[A\u001b[A\u001b[A\u001b[1G\u001b[?25h\u001b[?2026l\u001b[?2026h\u001b[?25l\u001b[A\u001b[A\u001b[A\u001b[A\u001b[A\u001b[A\u001b[A\u001b[1G\u001b[?25h\u001b[?2026l\u001b[?2026h\u001b[?25l\u001b[A\u001b[A\u001b[A\u001b[A\u001b[A\u001b[A\u001b[A\u001b[1G\u001b[?25h\u001b[?2026l\u001b[?2026h\u001b[?25l\u001b[A\u001b[A\u001b[A\u001b[A\u001b[A\u001b[A\u001b[A\u001b[1G\u001b[?25h\u001b[?2026l\u001b[?2026h\u001b[?25l\u001b[A\u001b[A\u001b[A\u001b[A\u001b[A\u001b[A\u001b[A\u001b[1G\u001b[?25h\u001b[?2026l\u001b[?2026h\u001b[?25l\u001b[A\u001b[A\u001b[A\u001b[A\u001b[A\u001b[A\u001b[A\u001b[1G\u001b[?25h\u001b[?2026l\u001b[?2026h\u001b[?25l\u001b[A\u001b[A\u001b[A\u001b[A\u001b[A\u001b[A\u001b[A\u001b[1G\u001b[?25h\u001b[?2026l\u001b[?2026h\u001b[?25l\u001b[A\u001b[A\u001b[A\u001b[A\u001b[A\u001b[A\u001b[A\u001b[1G\u001b[?25h\u001b[?2026l\u001b[?2026h\u001b[?25l\u001b[A\u001b[A\u001b[A\u001b[A\u001b[A\u001b[A\u001b[A\u001b[1G\u001b[?25h\u001b[?2026l\u001b[?2026h\u001b[?25l\u001b[A\u001b[A\u001b[A\u001b[A\u001b[A\u001b[A\u001b[A\u001b[1G\u001b[?25h\u001b[?2026l\u001b[?2026h\u001b[?25l\u001b[A\u001b[A\u001b[A\u001b[A\u001b[A\u001b[A\u001b[A\u001b[1G\u001b[?25h\u001b[?2026l\u001b[?2026h\u001b[?25l\u001b[A\u001b[A\u001b[A\u001b[A\u001b[A\u001b[A\u001b[A\u001b[1G\u001b[?25h\u001b[?2026l\u001b[?2026h\u001b[?25l\u001b[A\u001b[A\u001b[A\u001b[A\u001b[A\u001b[A\u001b[A\u001b[1G\u001b[?25h\u001b[?2026l\u001b[?2026h\u001b[?25l\u001b[A\u001b[A\u001b[A\u001b[A\u001b[A\u001b[A\u001b[A\u001b[1G\u001b[?25h\u001b[?2026l\u001b[?2026h\u001b[?25l\u001b[A\u001b[A\u001b[A\u001b[A\u001b[A\u001b[A\u001b[A\u001b[1G\u001b[?25h\u001b[?2026l\u001b[?2026h\u001b[?25l\u001b[A\u001b[A\u001b[A\u001b[A\u001b[A\u001b[A\u001b[A\u001b[1G\u001b[?25h\u001b[?2026l\u001b[?2026h\u001b[?25l\u001b[A\u001b[A\u001b[A\u001b[A\u001b[A\u001b[A\u001b[A\u001b[1G\u001b[?25h\u001b[?2026l\u001b[?2026h\u001b[?25l\u001b[A\u001b[A\u001b[A\u001b[A\u001b[A\u001b[A\u001b[A\u001b[1G\u001b[?25h\u001b[?2026l\u001b[?2026h\u001b[?25l\u001b[A\u001b[A\u001b[A\u001b[A\u001b[A\u001b[A\u001b[A\u001b[1G\u001b[?25h\u001b[?2026l\u001b[?2026h\u001b[?25l\u001b[A\u001b[A\u001b[A\u001b[A\u001b[A\u001b[A\u001b[A\u001b[1G\u001b[?25h\u001b[?2026l\u001b[?2026h\u001b[?25l\u001b[A\u001b[A\u001b[A\u001b[A\u001b[A\u001b[A\u001b[A\u001b[1G\u001b[?25h\u001b[?2026l\u001b[?2026h\u001b[?25l\u001b[A\u001b[A\u001b[A\u001b[A\u001b[A\u001b[A\u001b[A\u001b[1G\u001b[?25h\u001b[?2026l\u001b[?2026h\u001b[?25l\u001b[A\u001b[A\u001b[A\u001b[A\u001b[A\u001b[A\u001b[A\u001b[1G\u001b[?25h\u001b[?2026l\u001b[?2026h\u001b[?25l\u001b[A\u001b[A\u001b[A\u001b[A\u001b[A\u001b[A\u001b[A\u001b[1G\u001b[?25h\u001b[?2026l\u001b[?2026h\u001b[?25l\u001b[A\u001b[A\u001b[A\u001b[A\u001b[A\u001b[A\u001b[A\u001b[1G\u001b[?25h\u001b[?2026l\u001b[?2026h\u001b[?25l\u001b[A\u001b[A\u001b[A\u001b[A\u001b[A\u001b[A\u001b[A\u001b[1G\u001b[?25h\u001b[?2026l\u001b[?2026h\u001b[?25l\u001b[A\u001b[A\u001b[A\u001b[A\u001b[A\u001b[A\u001b[A\u001b[1G\u001b[?25h\u001b[?2026l\u001b[?2026h\u001b[?25l\u001b[A\u001b[A\u001b[A\u001b[A\u001b[A\u001b[A\u001b[A\u001b[1G\u001b[?25h\u001b[?2026l\u001b[?2026h\u001b[?25l\u001b[A\u001b[A\u001b[A\u001b[A\u001b[A\u001b[A\u001b[A\u001b[1G\u001b[?25h\u001b[?2026l\u001b[?2026h\u001b[?25l\u001b[A\u001b[A\u001b[A\u001b[A\u001b[A\u001b[A\u001b[A\u001b[1G\u001b[?25h\u001b[?2026l\u001b[?2026h\u001b[?25l\u001b[A\u001b[A\u001b[A\u001b[A\u001b[A\u001b[A\u001b[A\u001b[1G\u001b[?25h\u001b[?2026l\u001b[?2026h\u001b[?25l\u001b[A\u001b[A\u001b[A\u001b[A\u001b[A\u001b[A\u001b[A\u001b[1G\u001b[?25h\u001b[?2026l\n"
          ]
        }
      ]
    },
    {
      "cell_type": "markdown",
      "source": [
        "https://github.com/Juan-LukeKlopper/OxideAgent\n"
      ],
      "metadata": {
        "id": "pH43asUApULY"
      }
    },
    {
      "cell_type": "markdown",
      "metadata": {
        "id": "f5660a98"
      },
      "source": [
        "# Task\n",
        "Install and run Rust in Google Colab."
      ]
    },
    {
      "cell_type": "markdown",
      "metadata": {
        "id": "8a174dc7"
      },
      "source": [
        "## Install rust\n",
        "\n",
        "### Subtask:\n",
        "Install the Rust toolchain using rustup.\n"
      ]
    },
    {
      "cell_type": "markdown",
      "metadata": {
        "id": "c27cab9f"
      },
      "source": [
        "**Reasoning**:\n",
        "Download and execute the rustup installation script.\n",
        "\n"
      ]
    },
    {
      "cell_type": "code",
      "metadata": {
        "colab": {
          "base_uri": "https://localhost:8080/"
        },
        "id": "35ed26b3",
        "outputId": "4252d921-1a3f-4584-b897-b33148f74901"
      },
      "source": [
        "!curl --proto '=https' --tlsv1.2 -sSf https://sh.rustup.rs | sh -s -- -y"
      ],
      "execution_count": 1,
      "outputs": [
        {
          "output_type": "stream",
          "name": "stdout",
          "text": [
            "\u001b[1minfo:\u001b[0m downloading installer\n",
            "\u001b[0m\u001b[1minfo: \u001b[0mprofile set to 'default'\n",
            "\u001b[0m\u001b[1minfo: \u001b[0mdefault host triple is x86_64-unknown-linux-gnu\n",
            "\u001b[0m\u001b[1minfo: \u001b[0msyncing channel updates for 'stable-x86_64-unknown-linux-gnu'\n",
            "\u001b[0m\u001b[1minfo: \u001b[0mlatest update on 2025-08-07, rust version 1.89.0 (29483883e 2025-08-04)\n",
            "\u001b[0m\u001b[1minfo: \u001b[0mdownloading component 'cargo'\n",
            "\u001b[0m\u001b[1minfo: \u001b[0mdownloading component 'clippy'\n",
            "\u001b[0m\u001b[1minfo: \u001b[0mdownloading component 'rust-docs'\n",
            "\u001b[0m\u001b[1minfo: \u001b[0mdownloading component 'rust-std'\n",
            " 27.6 MiB /  27.6 MiB (100 %)  26.7 MiB/s in  1s\n",
            "\u001b[0m\u001b[1minfo: \u001b[0mdownloading component 'rustc'\n",
            " 78.1 MiB /  78.1 MiB (100 %)  58.8 MiB/s in  1s\n",
            "\u001b[0m\u001b[1minfo: \u001b[0mdownloading component 'rustfmt'\n",
            "\u001b[0m\u001b[1minfo: \u001b[0minstalling component 'cargo'\n",
            "  9.7 MiB /   9.7 MiB (100 %)   5.4 MiB/s in  1s\n",
            "\u001b[0m\u001b[1minfo: \u001b[0minstalling component 'clippy'\n",
            "\u001b[0m\u001b[1minfo: \u001b[0minstalling component 'rust-docs'\n",
            " 20.2 MiB /  20.2 MiB (100 %)   2.0 MiB/s in  9s\n",
            "\u001b[0m\u001b[1minfo: \u001b[0minstalling component 'rust-std'\n",
            " 27.6 MiB /  27.6 MiB (100 %)   7.9 MiB/s in  3s\n",
            "\u001b[0m\u001b[1minfo: \u001b[0minstalling component 'rustc'\n",
            " 78.1 MiB /  78.1 MiB (100 %)   7.0 MiB/s in 10s\n",
            "\u001b[0m\u001b[1minfo: \u001b[0minstalling component 'rustfmt'\n",
            "\u001b[0m\u001b[1minfo: \u001b[0mdefault toolchain set to 'stable-x86_64-unknown-linux-gnu'\n",
            "\n",
            "  \u001b[0m\u001b[1m\u001b[0m\u001b[1m\u001b[32mstable-x86_64-unknown-linux-gnu installed\u001b[0m - rustc 1.89.0 (29483883e 2025-08-04)\n",
            "\n",
            "\u001b[0m\u001b[1m\n",
            "Rust is installed now. Great!\n",
            "\u001b[0m\n",
            "To get started you may need to restart your current shell.\n",
            "This would reload your \u001b[0m\u001b[1mPATH\u001b[0m environment variable to include\n",
            "Cargo's bin directory ($HOME/.cargo/bin).\n",
            "\n",
            "To configure your current shell, you need to source\n",
            "the corresponding \u001b[0m\u001b[1menv\u001b[0m file under $HOME/.cargo.\n",
            "\n",
            "This is usually done by running one of the following (note the leading DOT):\n",
            ". \"$HOME/.cargo/env\"            # For sh/bash/zsh/ash/dash/pdksh\n",
            "source \"$HOME/.cargo/env.fish\"  # For fish\n",
            "source $\"($nu.home-path)/.cargo/env.nu\"  # For nushell\n"
          ]
        }
      ]
    },
    {
      "cell_type": "markdown",
      "metadata": {
        "id": "19a7b023"
      },
      "source": [
        "**Reasoning**:\n",
        "Verify the installation by checking the rustc version and add rust to the PATH.\n",
        "\n"
      ]
    },
    {
      "cell_type": "code",
      "metadata": {
        "colab": {
          "base_uri": "https://localhost:8080/"
        },
        "id": "f4b5af7a",
        "outputId": "0a4279c1-2a25-4184-bd27-c5b75af46a13"
      },
      "source": [
        "!source \"$HOME/.cargo/env\" && rustc --version"
      ],
      "execution_count": 2,
      "outputs": [
        {
          "output_type": "stream",
          "name": "stdout",
          "text": [
            "rustc 1.89.0 (29483883e 2025-08-04)\n"
          ]
        }
      ]
    },
    {
      "cell_type": "markdown",
      "metadata": {
        "id": "eabce36b"
      },
      "source": [
        "## Verify installation\n",
        "\n",
        "### Subtask:\n",
        "Check the Rust version to ensure the installation was successful.\n"
      ]
    },
    {
      "cell_type": "markdown",
      "metadata": {
        "id": "2becea4e"
      },
      "source": [
        "**Reasoning**:\n",
        "Source the Cargo environment file and check the Rust compiler version.\n",
        "\n"
      ]
    },
    {
      "cell_type": "code",
      "metadata": {
        "colab": {
          "base_uri": "https://localhost:8080/"
        },
        "id": "aefa2ef5",
        "outputId": "94dcc917-39be-4305-b4a0-89b231050764"
      },
      "source": [
        "!source \"$HOME/.cargo/env\" && rustc --version"
      ],
      "execution_count": 3,
      "outputs": [
        {
          "output_type": "stream",
          "name": "stdout",
          "text": [
            "rustc 1.89.0 (29483883e 2025-08-04)\n"
          ]
        }
      ]
    },
    {
      "cell_type": "markdown",
      "metadata": {
        "id": "2b7b8ce6"
      },
      "source": [
        "## Write rust code\n",
        "\n",
        "### Subtask:\n",
        "Create a simple Rust program.\n"
      ]
    },
    {
      "cell_type": "markdown",
      "metadata": {
        "id": "ce5ec406"
      },
      "source": [
        "**Reasoning**:\n",
        "Create a file named main.rs and write a simple Rust program that prints \"Hello, Rust!\".\n",
        "\n"
      ]
    },
    {
      "cell_type": "code",
      "metadata": {
        "id": "515b694a"
      },
      "source": [
        "with open(\"main.rs\", \"w\") as f:\n",
        "  f.write('fn main() {\\n    println!(\"Hello, Rust!\");\\n}')"
      ],
      "execution_count": 4,
      "outputs": []
    },
    {
      "cell_type": "markdown",
      "metadata": {
        "id": "c57764a5"
      },
      "source": [
        "## Compile and run rust code\n",
        "\n",
        "### Subtask:\n",
        "Compile and run the Rust program.\n"
      ]
    },
    {
      "cell_type": "markdown",
      "metadata": {
        "id": "b2b776d6"
      },
      "source": [
        "**Reasoning**:\n",
        "Compile and run the Rust program using the Rust compiler and execute the compiled binary.\n",
        "\n"
      ]
    },
    {
      "cell_type": "code",
      "metadata": {
        "colab": {
          "base_uri": "https://localhost:8080/"
        },
        "id": "ba5a8746",
        "outputId": "15a9e0e3-1c3e-4d74-f5d3-c9c3caa21a5a"
      },
      "source": [
        "!source \"$HOME/.cargo/env\" && rustc main.rs && ./main"
      ],
      "execution_count": 5,
      "outputs": [
        {
          "output_type": "stream",
          "name": "stdout",
          "text": [
            "Hello, Rust!\n"
          ]
        }
      ]
    },
    {
      "cell_type": "markdown",
      "metadata": {
        "id": "e91e4b0f"
      },
      "source": [
        "## Summary:\n",
        "\n",
        "### Data Analysis Key Findings\n",
        "\n",
        "*   The Rust toolchain, including `rustc` and `cargo`, was successfully installed in the Google Colab environment using `rustup`.\n",
        "*   The installed Rust version is 1.89.0.\n",
        "*   A simple Rust program named `main.rs` was created.\n",
        "*   The Rust program was successfully compiled and executed, producing the output \"Hello, Rust!\".\n",
        "\n",
        "### Insights or Next Steps\n",
        "\n",
        "*   The successful installation and execution of a basic Rust program demonstrate the feasibility of using Rust within Google Colab for various tasks.\n",
        "*   Further steps could involve exploring the use of Cargo for managing Rust projects and dependencies, or integrating Rust code with Python for performance-critical operations.\n"
      ]
    },
    {
      "cell_type": "code",
      "source": [],
      "metadata": {
        "id": "6AXnO3vBpjDY"
      },
      "execution_count": null,
      "outputs": []
    },
    {
      "cell_type": "code",
      "source": [],
      "metadata": {
        "id": "frwQDWp-pznM"
      },
      "execution_count": null,
      "outputs": []
    },
    {
      "cell_type": "code",
      "source": [],
      "metadata": {
        "id": "66gX525qpzqY"
      },
      "execution_count": null,
      "outputs": []
    },
    {
      "cell_type": "code",
      "source": [],
      "metadata": {
        "id": "Q40iNMqCpzsw"
      },
      "execution_count": null,
      "outputs": []
    },
    {
      "cell_type": "code",
      "source": [
        "!ollama list"
      ],
      "metadata": {
        "colab": {
          "base_uri": "https://localhost:8080/"
        },
        "id": "3uQbScMKvqax",
        "outputId": "783b2bc4-2af3-4030-ea71-4e5891f1d85f"
      },
      "execution_count": 25,
      "outputs": [
        {
          "output_type": "stream",
          "name": "stdout",
          "text": [
            "NAME               ID              SIZE      MODIFIED       \n",
            "llama3.2:latest    a80c4f17acd5    2.0 GB    26 minutes ago    \n"
          ]
        }
      ]
    },
    {
      "cell_type": "code",
      "source": [],
      "metadata": {
        "id": "ourk5QZK9fpI"
      },
      "execution_count": null,
      "outputs": []
    },
    {
      "cell_type": "code",
      "source": [],
      "metadata": {
        "id": "igSLjLIh9fmf"
      },
      "execution_count": null,
      "outputs": []
    },
    {
      "cell_type": "code",
      "source": [],
      "metadata": {
        "id": "cO17uCQr9fjU"
      },
      "execution_count": null,
      "outputs": []
    },
    {
      "cell_type": "code",
      "source": [],
      "metadata": {
        "id": "oJwybw9c9ffy"
      },
      "execution_count": null,
      "outputs": []
    },
    {
      "cell_type": "code",
      "source": [],
      "metadata": {
        "id": "xLPA7BjE9fdF"
      },
      "execution_count": null,
      "outputs": []
    },
    {
      "cell_type": "code",
      "source": [],
      "metadata": {
        "id": "_kUquAnt9fZd"
      },
      "execution_count": null,
      "outputs": []
    },
    {
      "cell_type": "code",
      "source": [],
      "metadata": {
        "id": "d7zjxK1d9fU1"
      },
      "execution_count": null,
      "outputs": []
    },
    {
      "cell_type": "markdown",
      "source": [
        "############################################"
      ],
      "metadata": {
        "id": "pdF6gkQZ9zZd"
      }
    },
    {
      "cell_type": "markdown",
      "source": [
        "### aشغال"
      ],
      "metadata": {
        "id": "5Rbkzglw9grt"
      }
    },
    {
      "cell_type": "markdown",
      "source": [],
      "metadata": {
        "id": "L22pEYyy90Yk"
      }
    },
    {
      "cell_type": "code",
      "source": [
        "!ollama list"
      ],
      "metadata": {
        "colab": {
          "base_uri": "https://localhost:8080/"
        },
        "id": "ugYC_Zgo6KSU",
        "outputId": "4db57e70-18ca-47b3-8e55-aaeab60ecacc"
      },
      "execution_count": 2,
      "outputs": [
        {
          "output_type": "stream",
          "name": "stdout",
          "text": [
            "NAME               ID              SIZE      MODIFIED          \n",
            "llama3.2:latest    a80c4f17acd5    2.0 GB    About an hour ago    \n"
          ]
        }
      ]
    },
    {
      "cell_type": "code",
      "source": [
        "%cd /content"
      ],
      "metadata": {
        "colab": {
          "base_uri": "https://localhost:8080/"
        },
        "id": "Iy5iRDZU6MNk",
        "outputId": "9f55d004-50ed-4c13-f8e5-88b7c43c02a7"
      },
      "execution_count": 3,
      "outputs": [
        {
          "output_type": "stream",
          "name": "stdout",
          "text": [
            "/content\n"
          ]
        }
      ]
    },
    {
      "cell_type": "code",
      "source": [
        "!source \"$HOME/.cargo/env\" && cargo new rust_llama_chat\n",
        "\n"
      ],
      "metadata": {
        "colab": {
          "base_uri": "https://localhost:8080/"
        },
        "id": "FnyIzDLG6ekz",
        "outputId": "9e4c33e4-7950-41d2-cb1f-c4cc30a60b55"
      },
      "execution_count": 6,
      "outputs": [
        {
          "output_type": "stream",
          "name": "stdout",
          "text": [
            "\u001b[1m\u001b[32m    Creating\u001b[0m binary (application) `rust_llama_chat` package\n",
            "\u001b[1m\u001b[36mnote\u001b[0m\u001b[1m:\u001b[0m see more `Cargo.toml` keys and their definitions at https://doc.rust-lang.org/cargo/reference/manifest.html\n",
            "\u001b[1m\u001b[31merror\u001b[0m\u001b[1m:\u001b[0m could not find `Cargo.toml` in `/content` or any parent directory\n",
            "\u001b[1m\u001b[31merror\u001b[0m\u001b[1m:\u001b[0m could not find `Cargo.toml` in `/content` or any parent directory\n"
          ]
        }
      ]
    },
    {
      "cell_type": "code",
      "source": [
        "%cd rust_llama_chat"
      ],
      "metadata": {
        "colab": {
          "base_uri": "https://localhost:8080/"
        },
        "id": "HJsrFcGC65wl",
        "outputId": "a3df7d35-88a0-4c41-8fee-f49c18c21925"
      },
      "execution_count": 7,
      "outputs": [
        {
          "output_type": "stream",
          "name": "stdout",
          "text": [
            "/content/rust_llama_chat\n"
          ]
        }
      ]
    },
    {
      "cell_type": "code",
      "source": [
        "!source \"$HOME/.cargo/env\" && cargo add reqwest --features json\n",
        "!source \"$HOME/.cargo/env\" && cargo add tokio --features full"
      ],
      "metadata": {
        "colab": {
          "base_uri": "https://localhost:8080/"
        },
        "id": "FVrwubik69LF",
        "outputId": "00c6b793-90f8-4554-822b-0f77331aa2a6"
      },
      "execution_count": 8,
      "outputs": [
        {
          "output_type": "stream",
          "name": "stdout",
          "text": [
            "\u001b[1m\u001b[32m    Updating\u001b[0m crates.io index\n",
            "\u001b[1m\u001b[32m      Adding\u001b[0m reqwest v0.12.23 to dependencies\n",
            "             Features:\n",
            "             \u001b[1m\u001b[32m+\u001b[0m __tls\n",
            "             \u001b[1m\u001b[32m+\u001b[0m charset\n",
            "             \u001b[1m\u001b[32m+\u001b[0m default-tls\n",
            "             \u001b[1m\u001b[32m+\u001b[0m h2\n",
            "             \u001b[1m\u001b[32m+\u001b[0m http2\n",
            "             \u001b[1m\u001b[32m+\u001b[0m json\n",
            "             \u001b[1m\u001b[32m+\u001b[0m system-proxy\n",
            "             26 deactivated features\n",
            "\u001b[1m\u001b[32m    Updating\u001b[0m crates.io index\n",
            "\u001b[1m\u001b[32m     Locking\u001b[0m 168 packages to latest Rust 1.89.0 compatible versions\n",
            "\u001b[1m\u001b[32m    Updating\u001b[0m crates.io index\n",
            "\u001b[1m\u001b[32m      Adding\u001b[0m tokio v1.47.1 to dependencies\n",
            "             Features:\n",
            "             \u001b[1m\u001b[32m+\u001b[0m bytes\n",
            "             \u001b[1m\u001b[32m+\u001b[0m fs\n",
            "             \u001b[1m\u001b[32m+\u001b[0m full\n",
            "             \u001b[1m\u001b[32m+\u001b[0m io-std\n",
            "             \u001b[1m\u001b[32m+\u001b[0m io-util\n",
            "             \u001b[1m\u001b[32m+\u001b[0m libc\n",
            "             \u001b[1m\u001b[32m+\u001b[0m macros\n",
            "             \u001b[1m\u001b[32m+\u001b[0m net\n",
            "             \u001b[1m\u001b[32m+\u001b[0m parking_lot\n",
            "             \u001b[1m\u001b[32m+\u001b[0m process\n",
            "             \u001b[1m\u001b[32m+\u001b[0m rt\n",
            "             \u001b[1m\u001b[32m+\u001b[0m rt-multi-thread\n",
            "             \u001b[1m\u001b[32m+\u001b[0m signal\n",
            "             \u001b[1m\u001b[32m+\u001b[0m signal-hook-registry\n",
            "             \u001b[1m\u001b[32m+\u001b[0m socket2\n",
            "             \u001b[1m\u001b[32m+\u001b[0m sync\n",
            "             \u001b[1m\u001b[32m+\u001b[0m time\n",
            "             \u001b[1m\u001b[32m+\u001b[0m tokio-macros\n",
            "             \u001b[1m\u001b[31m-\u001b[0m mio\n",
            "             \u001b[1m\u001b[31m-\u001b[0m test-util\n",
            "             \u001b[1m\u001b[31m-\u001b[0m tracing\n",
            "             \u001b[1m\u001b[31m-\u001b[0m windows-sys\n",
            "\u001b[1m\u001b[32m     Locking\u001b[0m 8 packages to latest Rust 1.89.0 compatible versions\n",
            "\u001b[1m\u001b[36m      Adding\u001b[0m autocfg v1.5.0\n",
            "\u001b[1m\u001b[36m      Adding\u001b[0m lock_api v0.4.13\n",
            "\u001b[1m\u001b[36m      Adding\u001b[0m parking_lot v0.12.4\n",
            "\u001b[1m\u001b[36m      Adding\u001b[0m parking_lot_core v0.9.11\n",
            "\u001b[1m\u001b[36m      Adding\u001b[0m redox_syscall v0.5.17\n",
            "\u001b[1m\u001b[36m      Adding\u001b[0m scopeguard v1.2.0\n",
            "\u001b[1m\u001b[36m      Adding\u001b[0m signal-hook-registry v1.4.6\n",
            "\u001b[1m\u001b[36m      Adding\u001b[0m tokio-macros v2.5.0\n"
          ]
        }
      ]
    },
    {
      "cell_type": "code",
      "source": [
        "!source \"$HOME/.cargo/env\" && cargo run"
      ],
      "metadata": {
        "colab": {
          "base_uri": "https://localhost:8080/"
        },
        "id": "v4Nu3O-R69az",
        "outputId": "f671da79-b8b4-47bf-9bad-0e9f7892193a"
      },
      "execution_count": 9,
      "outputs": [
        {
          "output_type": "stream",
          "name": "stdout",
          "text": [
            "\u001b[1m\u001b[32m Downloading\u001b[0m crates ...\n",
            "\u001b[1m\u001b[32m  Downloaded\u001b[0m find-msvc-tools v0.1.1\n",
            "\u001b[1m\u001b[32m  Downloaded\u001b[0m bitflags v2.9.4\n",
            "\u001b[1m\u001b[32m  Downloaded\u001b[0m proc-macro2 v1.0.101\n",
            "\u001b[1m\u001b[32m  Downloaded\u001b[0m log v0.4.28\n",
            "\u001b[1m\u001b[32m  Downloaded\u001b[0m hashbrown v0.15.5\n",
            "\u001b[1m\u001b[32m  Downloaded\u001b[0m percent-encoding v2.3.2\n",
            "\u001b[1m\u001b[32m  Downloaded\u001b[0m syn v2.0.106\n",
            "\u001b[1m\u001b[32m  Downloaded\u001b[0m potential_utf v0.1.3\n",
            "\u001b[1m\u001b[32m  Downloaded\u001b[0m indexmap v2.11.0\n",
            "\u001b[1m\u001b[32m  Downloaded\u001b[0m idna v1.1.0\n",
            "\u001b[1m\u001b[32m  Downloaded\u001b[0m libc v0.2.175\n",
            "\u001b[1m\u001b[32m  Downloaded\u001b[0m cc v1.2.36\n",
            "\u001b[1m\u001b[32m  Downloaded\u001b[0m form_urlencoded v1.2.2\n",
            "\u001b[1m\u001b[32m  Downloaded\u001b[0m slab v0.4.11\n",
            "\u001b[1m\u001b[32m  Downloaded\u001b[0m hyper v1.7.0\n",
            "\u001b[1m\u001b[32m  Downloaded\u001b[0m cfg-if v1.0.3\n",
            "\u001b[1m\u001b[32m  Downloaded\u001b[0m url v2.5.7\n",
            "\u001b[1m\u001b[32m  Downloaded\u001b[0m serde_json v1.0.143\n",
            "\u001b[1m\u001b[32m  Downloaded\u001b[0m reqwest v0.12.23\n",
            "\u001b[1m\u001b[32m   Compiling\u001b[0m proc-macro2 v1.0.101\n",
            "\u001b[1m\u001b[32m   Compiling\u001b[0m unicode-ident v1.0.18\n",
            "\u001b[1m\u001b[32m   Compiling\u001b[0m libc v0.2.175\n",
            "\u001b[1m\u001b[32m   Compiling\u001b[0m quote v1.0.40\n",
            "\u001b[1m\u001b[32m   Compiling\u001b[0m smallvec v1.15.1\n",
            "\u001b[1m\u001b[32m   Compiling\u001b[0m syn v2.0.106\n",
            "\u001b[1m\u001b[32m   Compiling\u001b[0m cfg-if v1.0.3\n",
            "\u001b[1m\u001b[32m   Compiling\u001b[0m autocfg v1.5.0\n",
            "\u001b[1m\u001b[32m   Compiling\u001b[0m stable_deref_trait v1.2.0\n",
            "\u001b[1m\u001b[32m   Compiling\u001b[0m lock_api v0.4.13\n",
            "\u001b[1m\u001b[32m   Compiling\u001b[0m parking_lot_core v0.9.11\n",
            "\u001b[1m\u001b[32m   Compiling\u001b[0m bytes v1.10.1\n",
            "\u001b[1m\u001b[32m   Compiling\u001b[0m pin-project-lite v0.2.16\n",
            "\u001b[1m\u001b[32m   Compiling\u001b[0m futures-core v0.3.31\n",
            "\u001b[1m\u001b[32m   Compiling\u001b[0m scopeguard v1.2.0\n",
            "\u001b[1m\u001b[32m   Compiling\u001b[0m find-msvc-tools v0.1.1\n",
            "\u001b[1m\u001b[32m   Compiling\u001b[0m shlex v1.3.0\n",
            "\u001b[1m\u001b[32m   Compiling\u001b[0m itoa v1.0.15\n",
            "\u001b[1m\u001b[32m   Compiling\u001b[0m cc v1.2.36\n",
            "\u001b[1m\u001b[32m   Compiling\u001b[0m synstructure v0.13.2\n",
            "\u001b[1m\u001b[32m   Compiling\u001b[0m parking_lot v0.12.4\n",
            "\u001b[1m\u001b[32m   Compiling\u001b[0m socket2 v0.6.0\n",
            "\u001b[1m\u001b[32m   Compiling\u001b[0m zerofrom-derive v0.1.6\n",
            "\u001b[1m\u001b[32m   Compiling\u001b[0m yoke-derive v0.8.0\n",
            "\u001b[1m\u001b[32m   Compiling\u001b[0m zerovec-derive v0.11.1\n",
            "\u001b[1m\u001b[32m   Compiling\u001b[0m zerofrom v0.1.6\n",
            "\u001b[1m\u001b[32m   Compiling\u001b[0m yoke v0.8.0\n",
            "\u001b[1m\u001b[32m   Compiling\u001b[0m displaydoc v0.2.5\n",
            "\u001b[1m\u001b[32m   Compiling\u001b[0m tokio-macros v2.5.0\n",
            "\u001b[1m\u001b[32m   Compiling\u001b[0m zerovec v0.11.4\n",
            "\u001b[1m\u001b[32m   Compiling\u001b[0m mio v1.0.4\n",
            "\u001b[1m\u001b[32m   Compiling\u001b[0m signal-hook-registry v1.4.6\n",
            "\u001b[1m\u001b[32m   Compiling\u001b[0m vcpkg v0.2.15\n",
            "\u001b[1m\u001b[32m   Compiling\u001b[0m once_cell v1.21.3\n",
            "\u001b[1m\u001b[32m   Compiling\u001b[0m pkg-config v0.3.32\n",
            "\u001b[1m\u001b[32m   Compiling\u001b[0m tokio v1.47.1\n",
            "\u001b[1m\u001b[32m   Compiling\u001b[0m openssl-sys v0.9.109\n",
            "\u001b[1m\u001b[32m   Compiling\u001b[0m fnv v1.0.7\n",
            "\u001b[1m\u001b[32m   Compiling\u001b[0m http v1.3.1\n",
            "\u001b[1m\u001b[32m   Compiling\u001b[0m tinystr v0.8.1\n",
            "\u001b[1m\u001b[32m   Compiling\u001b[0m litemap v0.8.0\n",
            "\u001b[1m\u001b[32m   Compiling\u001b[0m writeable v0.6.1\n",
            "\u001b[1m\u001b[32m   Compiling\u001b[0m icu_locale_core v2.0.0\n",
            "\u001b[1m\u001b[32m   Compiling\u001b[0m potential_utf v0.1.3\n",
            "\u001b[1m\u001b[32m   Compiling\u001b[0m zerotrie v0.2.2\n",
            "\u001b[1m\u001b[32m   Compiling\u001b[0m pin-utils v0.1.0\n",
            "\u001b[1m\u001b[32m   Compiling\u001b[0m icu_properties_data v2.0.1\n",
            "\u001b[1m\u001b[32m   Compiling\u001b[0m icu_normalizer_data v2.0.0\n",
            "\u001b[1m\u001b[32m   Compiling\u001b[0m icu_provider v2.0.0\n",
            "\u001b[1m\u001b[32m   Compiling\u001b[0m icu_collections v2.0.0\n",
            "\u001b[1m\u001b[32m   Compiling\u001b[0m http-body v1.0.1\n",
            "\u001b[1m\u001b[32m   Compiling\u001b[0m tracing-core v0.1.34\n",
            "\u001b[1m\u001b[32m   Compiling\u001b[0m httparse v1.10.1\n",
            "\u001b[1m\u001b[32m   Compiling\u001b[0m hashbrown v0.15.5\n",
            "\u001b[1m\u001b[32m   Compiling\u001b[0m serde v1.0.219\n",
            "\u001b[1m\u001b[32m   Compiling\u001b[0m futures-sink v0.3.31\n",
            "\u001b[1m\u001b[32m   Compiling\u001b[0m openssl v0.10.73\n",
            "\u001b[1m\u001b[32m   Compiling\u001b[0m futures-task v0.3.31\n",
            "\u001b[1m\u001b[32m   Compiling\u001b[0m percent-encoding v2.3.2\n",
            "\u001b[1m\u001b[32m   Compiling\u001b[0m equivalent v1.0.2\n",
            "\u001b[1m\u001b[32m   Compiling\u001b[0m bitflags v2.9.4\n",
            "\u001b[1m\u001b[32m   Compiling\u001b[0m foreign-types-shared v0.1.1\n",
            "\u001b[1m\u001b[32m   Compiling\u001b[0m foreign-types v0.3.2\n",
            "\u001b[1m\u001b[32m   Compiling\u001b[0m indexmap v2.11.0\n",
            "\u001b[1m\u001b[32m   Compiling\u001b[0m futures-util v0.3.31\n",
            "\u001b[1m\u001b[32m   Compiling\u001b[0m tokio-util v0.7.16\n",
            "\u001b[1m\u001b[32m   Compiling\u001b[0m tracing v0.1.41\n",
            "\u001b[1m\u001b[32m   Compiling\u001b[0m openssl-macros v0.1.1\n",
            "\u001b[1m\u001b[32m   Compiling\u001b[0m serde_derive v1.0.219\n",
            "\u001b[1m\u001b[32m   Compiling\u001b[0m try-lock v0.2.5\n",
            "\u001b[1m\u001b[32m   Compiling\u001b[0m atomic-waker v1.1.2\n",
            "\u001b[1m\u001b[32m   Compiling\u001b[0m slab v0.4.11\n",
            "\u001b[1m\u001b[32m   Compiling\u001b[0m native-tls v0.2.14\n",
            "\u001b[1m\u001b[32m   Compiling\u001b[0m tower-service v0.3.3\n",
            "\u001b[1m\u001b[32m   Compiling\u001b[0m h2 v0.4.12\n",
            "\u001b[1m\u001b[32m   Compiling\u001b[0m want v0.3.1\n",
            "\u001b[1m\u001b[32m   Compiling\u001b[0m icu_normalizer v2.0.0\n",
            "\u001b[1m\u001b[32m   Compiling\u001b[0m icu_properties v2.0.1\n",
            "\u001b[1m\u001b[32m   Compiling\u001b[0m futures-channel v0.3.31\n",
            "\u001b[1m\u001b[32m   Compiling\u001b[0m openssl-probe v0.1.6\n",
            "\u001b[1m\u001b[32m   Compiling\u001b[0m log v0.4.28\n",
            "\u001b[1m\u001b[32m   Compiling\u001b[0m hyper v1.7.0\n",
            "\u001b[1m\u001b[32m   Compiling\u001b[0m idna_adapter v1.2.1\n",
            "\u001b[1m\u001b[32m   Compiling\u001b[0m form_urlencoded v1.2.2\n",
            "\u001b[1m\u001b[32m   Compiling\u001b[0m sync_wrapper v1.0.2\n",
            "\u001b[1m\u001b[32m   Compiling\u001b[0m base64 v0.22.1\n",
            "\u001b[1m\u001b[32m   Compiling\u001b[0m ipnet v2.11.0\n",
            "\u001b[1m\u001b[32m   Compiling\u001b[0m serde_json v1.0.143\n",
            "\u001b[1m\u001b[32m   Compiling\u001b[0m tower-layer v0.3.3\n",
            "\u001b[1m\u001b[32m   Compiling\u001b[0m utf8_iter v1.0.4\n",
            "\u001b[1m\u001b[32m   Compiling\u001b[0m ryu v1.0.20\n",
            "\u001b[1m\u001b[32m   Compiling\u001b[0m idna v1.1.0\n",
            "\u001b[1m\u001b[32m   Compiling\u001b[0m tower v0.5.2\n",
            "\u001b[1m\u001b[32m   Compiling\u001b[0m hyper-util v0.1.16\n",
            "\u001b[1m\u001b[32m   Compiling\u001b[0m tokio-native-tls v0.3.1\n",
            "\u001b[1m\u001b[32m   Compiling\u001b[0m http-body-util v0.1.3\n",
            "\u001b[1m\u001b[32m   Compiling\u001b[0m zeroize v1.8.1\n",
            "\u001b[1m\u001b[32m   Compiling\u001b[0m iri-string v0.7.8\n",
            "\u001b[1m\u001b[32m   Compiling\u001b[0m memchr v2.7.5\n",
            "\u001b[1m\u001b[32m   Compiling\u001b[0m tower-http v0.6.6\n",
            "\u001b[1m\u001b[32m   Compiling\u001b[0m hyper-tls v0.6.0\n",
            "\u001b[1m\u001b[32m   Compiling\u001b[0m rustls-pki-types v1.12.0\n",
            "\u001b[1m\u001b[32m   Compiling\u001b[0m url v2.5.7\n",
            "\u001b[1m\u001b[32m   Compiling\u001b[0m serde_urlencoded v0.7.1\n",
            "\u001b[1m\u001b[32m   Compiling\u001b[0m encoding_rs v0.8.35\n",
            "\u001b[1m\u001b[32m   Compiling\u001b[0m mime v0.3.17\n",
            "\u001b[1m\u001b[32m   Compiling\u001b[0m reqwest v0.12.23\n",
            "\u001b[1m\u001b[32m   Compiling\u001b[0m rust_llama_chat v0.1.0 (/content/rust_llama_chat)\n",
            "\u001b[0m\u001b[1m\u001b[38;5;9merror[E0432]\u001b[0m\u001b[0m\u001b[1m: unresolved import `serde`\u001b[0m\n",
            "\u001b[0m \u001b[0m\u001b[0m\u001b[1m\u001b[38;5;12m--> \u001b[0m\u001b[0msrc/main.rs:2:5\u001b[0m\n",
            "\u001b[0m  \u001b[0m\u001b[0m\u001b[1m\u001b[38;5;12m|\u001b[0m\n",
            "\u001b[0m\u001b[1m\u001b[38;5;12m2\u001b[0m\u001b[0m \u001b[0m\u001b[0m\u001b[1m\u001b[38;5;12m|\u001b[0m\u001b[0m \u001b[0m\u001b[0muse serde::{Deserialize, Serialize};\u001b[0m\n",
            "\u001b[0m  \u001b[0m\u001b[0m\u001b[1m\u001b[38;5;12m|\u001b[0m\u001b[0m     \u001b[0m\u001b[0m\u001b[1m\u001b[38;5;9m^^^^^\u001b[0m\u001b[0m \u001b[0m\u001b[0m\u001b[1m\u001b[38;5;9muse of unresolved module or unlinked crate `serde`\u001b[0m\n",
            "\u001b[0m  \u001b[0m\u001b[0m\u001b[1m\u001b[38;5;12m|\u001b[0m\n",
            "\u001b[0m  \u001b[0m\u001b[0m\u001b[1m\u001b[38;5;12m= \u001b[0m\u001b[0m\u001b[1mhelp\u001b[0m\u001b[0m: if you wanted to use a crate named `serde`, use `cargo add serde` to add it to your `Cargo.toml`\u001b[0m\n",
            "\n",
            "\u001b[0m\u001b[1m\u001b[38;5;9merror[E0277]\u001b[0m\u001b[0m\u001b[1m: the trait bound `OllamaRequest: serde::ser::Serialize` is not satisfied\u001b[0m\n",
            "\u001b[0m   \u001b[0m\u001b[0m\u001b[1m\u001b[38;5;12m--> \u001b[0m\u001b[0msrc/main.rs:44:19\u001b[0m\n",
            "\u001b[0m    \u001b[0m\u001b[0m\u001b[1m\u001b[38;5;12m|\u001b[0m\n",
            "\u001b[0m\u001b[1m\u001b[38;5;12m44\u001b[0m\u001b[0m  \u001b[0m\u001b[0m\u001b[1m\u001b[38;5;12m|\u001b[0m\u001b[0m \u001b[0m\u001b[0m            .json(&request_body)\u001b[0m\n",
            "\u001b[0m    \u001b[0m\u001b[0m\u001b[1m\u001b[38;5;12m|\u001b[0m\u001b[0m              \u001b[0m\u001b[0m\u001b[1m\u001b[38;5;12m----\u001b[0m\u001b[0m \u001b[0m\u001b[0m\u001b[1m\u001b[38;5;9m^^^^^^^^^^^^^\u001b[0m\u001b[0m \u001b[0m\u001b[0m\u001b[1m\u001b[38;5;9mthe trait `serde::ser::Serialize` is not implemented for `OllamaRequest`\u001b[0m\n",
            "\u001b[0m    \u001b[0m\u001b[0m\u001b[1m\u001b[38;5;12m|\u001b[0m\u001b[0m              \u001b[0m\u001b[0m\u001b[1m\u001b[38;5;12m|\u001b[0m\n",
            "\u001b[0m    \u001b[0m\u001b[0m\u001b[1m\u001b[38;5;12m|\u001b[0m\u001b[0m              \u001b[0m\u001b[0m\u001b[1m\u001b[38;5;12mrequired by a bound introduced by this call\u001b[0m\n",
            "\u001b[0m    \u001b[0m\u001b[0m\u001b[1m\u001b[38;5;12m|\u001b[0m\n",
            "\u001b[0m    \u001b[0m\u001b[0m\u001b[1m\u001b[38;5;12m= \u001b[0m\u001b[0m\u001b[1mnote\u001b[0m\u001b[0m: for local types consider adding `#[derive(serde::Serialize)]` to your `OllamaRequest` type\u001b[0m\n",
            "\u001b[0m    \u001b[0m\u001b[0m\u001b[1m\u001b[38;5;12m= \u001b[0m\u001b[0m\u001b[1mnote\u001b[0m\u001b[0m: for types from other crates check whether the crate offers a `serde` feature flag\u001b[0m\n",
            "\u001b[0m    \u001b[0m\u001b[0m\u001b[1m\u001b[38;5;12m= \u001b[0m\u001b[0m\u001b[1mhelp\u001b[0m\u001b[0m: the following other types implement trait `serde::ser::Serialize`:\u001b[0m\n",
            "\u001b[0m              &'a T\u001b[0m\n",
            "\u001b[0m              &'a mut T\u001b[0m\n",
            "\u001b[0m              ()\u001b[0m\n",
            "\u001b[0m              (T,)\u001b[0m\n",
            "\u001b[0m              (T0, T1)\u001b[0m\n",
            "\u001b[0m              (T0, T1, T2)\u001b[0m\n",
            "\u001b[0m              (T0, T1, T2, T3)\u001b[0m\n",
            "\u001b[0m              (T0, T1, T2, T3, T4)\u001b[0m\n",
            "\u001b[0m            and 133 others\u001b[0m\n",
            "\u001b[0m\u001b[1m\u001b[38;5;10mnote\u001b[0m\u001b[0m: required by a bound in `RequestBuilder::json`\u001b[0m\n",
            "\u001b[0m   \u001b[0m\u001b[0m\u001b[1m\u001b[38;5;12m--> \u001b[0m\u001b[0m/root/.cargo/registry/src/index.crates.io-1949cf8c6b5b557f/reqwest-0.12.23/src/async_impl/request.rs:447:20\u001b[0m\n",
            "\u001b[0m    \u001b[0m\u001b[0m\u001b[1m\u001b[38;5;12m|\u001b[0m\n",
            "\u001b[0m\u001b[1m\u001b[38;5;12m447\u001b[0m\u001b[0m \u001b[0m\u001b[0m\u001b[1m\u001b[38;5;12m|\u001b[0m\u001b[0m \u001b[0m\u001b[0m    pub fn json<T: Serialize + ?Sized>(mut self, json: &T) -> RequestBuilder {\u001b[0m\n",
            "\u001b[0m    \u001b[0m\u001b[0m\u001b[1m\u001b[38;5;12m|\u001b[0m\u001b[0m                    \u001b[0m\u001b[0m\u001b[1m\u001b[38;5;10m^^^^^^^^^\u001b[0m\u001b[0m \u001b[0m\u001b[0m\u001b[1m\u001b[38;5;10mrequired by this bound in `RequestBuilder::json`\u001b[0m\n",
            "\n",
            "\u001b[0m\u001b[1m\u001b[38;5;9merror[E0277]\u001b[0m\u001b[0m\u001b[1m: the trait bound `OllamaResponse: serde::de::DeserializeOwned` is not satisfied\u001b[0m\n",
            "\u001b[0m   \u001b[0m\u001b[0m\u001b[1m\u001b[38;5;12m--> \u001b[0m\u001b[0msrc/main.rs:47:21\u001b[0m\n",
            "\u001b[0m    \u001b[0m\u001b[0m\u001b[1m\u001b[38;5;12m|\u001b[0m\n",
            "\u001b[0m\u001b[1m\u001b[38;5;12m47\u001b[0m\u001b[0m  \u001b[0m\u001b[0m\u001b[1m\u001b[38;5;12m|\u001b[0m\u001b[0m \u001b[0m\u001b[0m            .json::<OllamaResponse>()\u001b[0m\n",
            "\u001b[0m    \u001b[0m\u001b[0m\u001b[1m\u001b[38;5;12m|\u001b[0m\u001b[0m              \u001b[0m\u001b[0m\u001b[1m\u001b[38;5;12m----\u001b[0m\u001b[0m   \u001b[0m\u001b[0m\u001b[1m\u001b[38;5;9m^^^^^^^^^^^^^^\u001b[0m\u001b[0m \u001b[0m\u001b[0m\u001b[1m\u001b[38;5;9mthe trait `for<'de> serde::de::Deserialize<'de>` is not implemented for `OllamaResponse`\u001b[0m\n",
            "\u001b[0m    \u001b[0m\u001b[0m\u001b[1m\u001b[38;5;12m|\u001b[0m\u001b[0m              \u001b[0m\u001b[0m\u001b[1m\u001b[38;5;12m|\u001b[0m\n",
            "\u001b[0m    \u001b[0m\u001b[0m\u001b[1m\u001b[38;5;12m|\u001b[0m\u001b[0m              \u001b[0m\u001b[0m\u001b[1m\u001b[38;5;12mrequired by a bound introduced by this call\u001b[0m\n",
            "\u001b[0m    \u001b[0m\u001b[0m\u001b[1m\u001b[38;5;12m|\u001b[0m\n",
            "\u001b[0m    \u001b[0m\u001b[0m\u001b[1m\u001b[38;5;12m= \u001b[0m\u001b[0m\u001b[1mhelp\u001b[0m\u001b[0m: the following other types implement trait `serde::de::Deserialize<'de>`:\u001b[0m\n",
            "\u001b[0m              &'a Path\u001b[0m\n",
            "\u001b[0m              &'a [u8]\u001b[0m\n",
            "\u001b[0m              &'a str\u001b[0m\n",
            "\u001b[0m              ()\u001b[0m\n",
            "\u001b[0m              (T,)\u001b[0m\n",
            "\u001b[0m              (T0, T1)\u001b[0m\n",
            "\u001b[0m              (T0, T1, T2)\u001b[0m\n",
            "\u001b[0m              (T0, T1, T2, T3)\u001b[0m\n",
            "\u001b[0m            and 144 others\u001b[0m\n",
            "\u001b[0m    \u001b[0m\u001b[0m\u001b[1m\u001b[38;5;12m= \u001b[0m\u001b[0m\u001b[1mnote\u001b[0m\u001b[0m: required for `OllamaResponse` to implement `serde::de::DeserializeOwned`\u001b[0m\n",
            "\u001b[0m\u001b[1m\u001b[38;5;10mnote\u001b[0m\u001b[0m: required by a bound in `Response::json`\u001b[0m\n",
            "\u001b[0m   \u001b[0m\u001b[0m\u001b[1m\u001b[38;5;12m--> \u001b[0m\u001b[0m/root/.cargo/registry/src/index.crates.io-1949cf8c6b5b557f/reqwest-0.12.23/src/async_impl/response.rs:273:26\u001b[0m\n",
            "\u001b[0m    \u001b[0m\u001b[0m\u001b[1m\u001b[38;5;12m|\u001b[0m\n",
            "\u001b[0m\u001b[1m\u001b[38;5;12m273\u001b[0m\u001b[0m \u001b[0m\u001b[0m\u001b[1m\u001b[38;5;12m|\u001b[0m\u001b[0m \u001b[0m\u001b[0m    pub async fn json<T: DeserializeOwned>(self) -> crate::Result<T> {\u001b[0m\n",
            "\u001b[0m    \u001b[0m\u001b[0m\u001b[1m\u001b[38;5;12m|\u001b[0m\u001b[0m                          \u001b[0m\u001b[0m\u001b[1m\u001b[38;5;10m^^^^^^^^^^^^^^^^\u001b[0m\u001b[0m \u001b[0m\u001b[0m\u001b[1m\u001b[38;5;10mrequired by this bound in `Response::json`\u001b[0m\n",
            "\n",
            "\u001b[0m\u001b[1m\u001b[38;5;9merror[E0277]\u001b[0m\u001b[0m\u001b[1m: the trait bound `for<'de> OllamaResponse: serde::de::Deserialize<'de>` is not satisfied\u001b[0m\n",
            "\u001b[0m   \u001b[0m\u001b[0m\u001b[1m\u001b[38;5;12m--> \u001b[0m\u001b[0msrc/main.rs:42:24\u001b[0m\n",
            "\u001b[0m    \u001b[0m\u001b[0m\u001b[1m\u001b[38;5;12m|\u001b[0m\n",
            "\u001b[0m\u001b[1m\u001b[38;5;12m42\u001b[0m\u001b[0m  \u001b[0m\u001b[0m\u001b[1m\u001b[38;5;12m|\u001b[0m\u001b[0m   \u001b[0m\u001b[0m        let response = client\u001b[0m\n",
            "\u001b[0m    \u001b[0m\u001b[0m\u001b[1m\u001b[38;5;12m|\u001b[0m\u001b[0m \u001b[0m\u001b[0m\u001b[1m\u001b[38;5;9m ________________________^\u001b[0m\n",
            "\u001b[0m\u001b[1m\u001b[38;5;12m43\u001b[0m\u001b[0m  \u001b[0m\u001b[0m\u001b[1m\u001b[38;5;12m|\u001b[0m\u001b[0m \u001b[0m\u001b[0m\u001b[1m\u001b[38;5;9m|\u001b[0m\u001b[0m \u001b[0m\u001b[0m            .post(url)\u001b[0m\n",
            "\u001b[0m\u001b[1m\u001b[38;5;12m44\u001b[0m\u001b[0m  \u001b[0m\u001b[0m\u001b[1m\u001b[38;5;12m|\u001b[0m\u001b[0m \u001b[0m\u001b[0m\u001b[1m\u001b[38;5;9m|\u001b[0m\u001b[0m \u001b[0m\u001b[0m            .json(&request_body)\u001b[0m\n",
            "\u001b[0m\u001b[1m\u001b[38;5;12m45\u001b[0m\u001b[0m  \u001b[0m\u001b[0m\u001b[1m\u001b[38;5;12m|\u001b[0m\u001b[0m \u001b[0m\u001b[0m\u001b[1m\u001b[38;5;9m|\u001b[0m\u001b[0m \u001b[0m\u001b[0m            .send()\u001b[0m\n",
            "\u001b[0m\u001b[1m\u001b[38;5;12m46\u001b[0m\u001b[0m  \u001b[0m\u001b[0m\u001b[1m\u001b[38;5;12m|\u001b[0m\u001b[0m \u001b[0m\u001b[0m\u001b[1m\u001b[38;5;9m|\u001b[0m\u001b[0m \u001b[0m\u001b[0m            .await?\u001b[0m\n",
            "\u001b[0m\u001b[1m\u001b[38;5;12m47\u001b[0m\u001b[0m  \u001b[0m\u001b[0m\u001b[1m\u001b[38;5;12m|\u001b[0m\u001b[0m \u001b[0m\u001b[0m\u001b[1m\u001b[38;5;9m|\u001b[0m\u001b[0m \u001b[0m\u001b[0m            .json::<OllamaResponse>()\u001b[0m\n",
            "\u001b[0m    \u001b[0m\u001b[0m\u001b[1m\u001b[38;5;12m|\u001b[0m\u001b[0m \u001b[0m\u001b[0m\u001b[1m\u001b[38;5;9m|_____________________________________^\u001b[0m\u001b[0m \u001b[0m\u001b[0m\u001b[1m\u001b[38;5;9mthe trait `for<'de> serde::de::Deserialize<'de>` is not implemented for `OllamaResponse`\u001b[0m\n",
            "\u001b[0m    \u001b[0m\u001b[0m\u001b[1m\u001b[38;5;12m|\u001b[0m\n",
            "\u001b[0m    \u001b[0m\u001b[0m\u001b[1m\u001b[38;5;12m= \u001b[0m\u001b[0m\u001b[1mnote\u001b[0m\u001b[0m: for local types consider adding `#[derive(serde::Deserialize)]` to your `OllamaResponse` type\u001b[0m\n",
            "\u001b[0m    \u001b[0m\u001b[0m\u001b[1m\u001b[38;5;12m= \u001b[0m\u001b[0m\u001b[1mnote\u001b[0m\u001b[0m: for types from other crates check whether the crate offers a `serde` feature flag\u001b[0m\n",
            "\u001b[0m    \u001b[0m\u001b[0m\u001b[1m\u001b[38;5;12m= \u001b[0m\u001b[0m\u001b[1mhelp\u001b[0m\u001b[0m: the following other types implement trait `serde::de::Deserialize<'de>`:\u001b[0m\n",
            "\u001b[0m              &'a Path\u001b[0m\n",
            "\u001b[0m              &'a [u8]\u001b[0m\n",
            "\u001b[0m              &'a str\u001b[0m\n",
            "\u001b[0m              ()\u001b[0m\n",
            "\u001b[0m              (T,)\u001b[0m\n",
            "\u001b[0m              (T0, T1)\u001b[0m\n",
            "\u001b[0m              (T0, T1, T2)\u001b[0m\n",
            "\u001b[0m              (T0, T1, T2, T3)\u001b[0m\n",
            "\u001b[0m            and 144 others\u001b[0m\n",
            "\u001b[0m    \u001b[0m\u001b[0m\u001b[1m\u001b[38;5;12m= \u001b[0m\u001b[0m\u001b[1mnote\u001b[0m\u001b[0m: required for `OllamaResponse` to implement `serde::de::DeserializeOwned`\u001b[0m\n",
            "\u001b[0m\u001b[1m\u001b[38;5;10mnote\u001b[0m\u001b[0m: required by a bound in `Response::json`\u001b[0m\n",
            "\u001b[0m   \u001b[0m\u001b[0m\u001b[1m\u001b[38;5;12m--> \u001b[0m\u001b[0m/root/.cargo/registry/src/index.crates.io-1949cf8c6b5b557f/reqwest-0.12.23/src/async_impl/response.rs:273:26\u001b[0m\n",
            "\u001b[0m    \u001b[0m\u001b[0m\u001b[1m\u001b[38;5;12m|\u001b[0m\n",
            "\u001b[0m\u001b[1m\u001b[38;5;12m273\u001b[0m\u001b[0m \u001b[0m\u001b[0m\u001b[1m\u001b[38;5;12m|\u001b[0m\u001b[0m \u001b[0m\u001b[0m    pub async fn json<T: DeserializeOwned>(self) -> crate::Result<T> {\u001b[0m\n",
            "\u001b[0m    \u001b[0m\u001b[0m\u001b[1m\u001b[38;5;12m|\u001b[0m\u001b[0m                          \u001b[0m\u001b[0m\u001b[1m\u001b[38;5;10m^^^^^^^^^^^^^^^^\u001b[0m\u001b[0m \u001b[0m\u001b[0m\u001b[1m\u001b[38;5;10mrequired by this bound in `Response::json`\u001b[0m\n",
            "\n",
            "\u001b[0m\u001b[1m\u001b[38;5;9merror[E0277]\u001b[0m\u001b[0m\u001b[1m: the trait bound `for<'de> OllamaResponse: serde::de::Deserialize<'de>` is not satisfied\u001b[0m\n",
            "\u001b[0m   \u001b[0m\u001b[0m\u001b[1m\u001b[38;5;12m--> \u001b[0m\u001b[0msrc/main.rs:48:14\u001b[0m\n",
            "\u001b[0m    \u001b[0m\u001b[0m\u001b[1m\u001b[38;5;12m|\u001b[0m\n",
            "\u001b[0m\u001b[1m\u001b[38;5;12m48\u001b[0m\u001b[0m  \u001b[0m\u001b[0m\u001b[1m\u001b[38;5;12m|\u001b[0m\u001b[0m \u001b[0m\u001b[0m            .await?;\u001b[0m\n",
            "\u001b[0m    \u001b[0m\u001b[0m\u001b[1m\u001b[38;5;12m|\u001b[0m\u001b[0m              \u001b[0m\u001b[0m\u001b[1m\u001b[38;5;9m^^^^^\u001b[0m\u001b[0m \u001b[0m\u001b[0m\u001b[1m\u001b[38;5;9mthe trait `for<'de> serde::de::Deserialize<'de>` is not implemented for `OllamaResponse`\u001b[0m\n",
            "\u001b[0m    \u001b[0m\u001b[0m\u001b[1m\u001b[38;5;12m|\u001b[0m\n",
            "\u001b[0m    \u001b[0m\u001b[0m\u001b[1m\u001b[38;5;12m= \u001b[0m\u001b[0m\u001b[1mnote\u001b[0m\u001b[0m: for local types consider adding `#[derive(serde::Deserialize)]` to your `OllamaResponse` type\u001b[0m\n",
            "\u001b[0m    \u001b[0m\u001b[0m\u001b[1m\u001b[38;5;12m= \u001b[0m\u001b[0m\u001b[1mnote\u001b[0m\u001b[0m: for types from other crates check whether the crate offers a `serde` feature flag\u001b[0m\n",
            "\u001b[0m    \u001b[0m\u001b[0m\u001b[1m\u001b[38;5;12m= \u001b[0m\u001b[0m\u001b[1mhelp\u001b[0m\u001b[0m: the following other types implement trait `serde::de::Deserialize<'de>`:\u001b[0m\n",
            "\u001b[0m              &'a Path\u001b[0m\n",
            "\u001b[0m              &'a [u8]\u001b[0m\n",
            "\u001b[0m              &'a str\u001b[0m\n",
            "\u001b[0m              ()\u001b[0m\n",
            "\u001b[0m              (T,)\u001b[0m\n",
            "\u001b[0m              (T0, T1)\u001b[0m\n",
            "\u001b[0m              (T0, T1, T2)\u001b[0m\n",
            "\u001b[0m              (T0, T1, T2, T3)\u001b[0m\n",
            "\u001b[0m            and 144 others\u001b[0m\n",
            "\u001b[0m    \u001b[0m\u001b[0m\u001b[1m\u001b[38;5;12m= \u001b[0m\u001b[0m\u001b[1mnote\u001b[0m\u001b[0m: required for `OllamaResponse` to implement `serde::de::DeserializeOwned`\u001b[0m\n",
            "\u001b[0m\u001b[1m\u001b[38;5;10mnote\u001b[0m\u001b[0m: required by a bound in `Response::json`\u001b[0m\n",
            "\u001b[0m   \u001b[0m\u001b[0m\u001b[1m\u001b[38;5;12m--> \u001b[0m\u001b[0m/root/.cargo/registry/src/index.crates.io-1949cf8c6b5b557f/reqwest-0.12.23/src/async_impl/response.rs:273:26\u001b[0m\n",
            "\u001b[0m    \u001b[0m\u001b[0m\u001b[1m\u001b[38;5;12m|\u001b[0m\n",
            "\u001b[0m\u001b[1m\u001b[38;5;12m273\u001b[0m\u001b[0m \u001b[0m\u001b[0m\u001b[1m\u001b[38;5;12m|\u001b[0m\u001b[0m \u001b[0m\u001b[0m    pub async fn json<T: DeserializeOwned>(self) -> crate::Result<T> {\u001b[0m\n",
            "\u001b[0m    \u001b[0m\u001b[0m\u001b[1m\u001b[38;5;12m|\u001b[0m\u001b[0m                          \u001b[0m\u001b[0m\u001b[1m\u001b[38;5;10m^^^^^^^^^^^^^^^^\u001b[0m\u001b[0m \u001b[0m\u001b[0m\u001b[1m\u001b[38;5;10mrequired by this bound in `Response::json`\u001b[0m\n",
            "\n",
            "\u001b[0m\u001b[1mSome errors have detailed explanations: E0277, E0432.\u001b[0m\n",
            "\u001b[0m\u001b[1mFor more information about an error, try `rustc --explain E0277`.\u001b[0m\n",
            "\u001b[1m\u001b[31merror\u001b[0m\u001b[1m:\u001b[0m could not compile `rust_llama_chat` (bin \"rust_llama_chat\") due to 5 previous errors\n"
          ]
        }
      ]
    },
    {
      "cell_type": "code",
      "source": [
        "!source \"$HOME/.cargo/env\" && cargo clean\n",
        "!source \"$HOME/.cargo/env\" && cargo build"
      ],
      "metadata": {
        "colab": {
          "base_uri": "https://localhost:8080/"
        },
        "id": "R6qgUVXC7RO0",
        "outputId": "9e9d9e73-2e23-42ca-fad2-85d3b07df713"
      },
      "execution_count": 10,
      "outputs": [
        {
          "output_type": "stream",
          "name": "stdout",
          "text": [
            "\u001b[1m\u001b[32m     Removed\u001b[0m 906 files, 433.1MiB total\n",
            "\u001b[1m\u001b[32m    Updating\u001b[0m crates.io index\n",
            "\u001b[1m\u001b[32m     Locking\u001b[0m 24 packages to latest Rust 1.89.0 compatible versions\n",
            "\u001b[1m\u001b[33m Downgrading\u001b[0m base64 v0.22.1 -> v0.21.7\n",
            "\u001b[1m\u001b[36m      Adding\u001b[0m bitflags v1.3.2\n",
            "\u001b[1m\u001b[33m Downgrading\u001b[0m h2 v0.4.12 -> v0.3.27\n",
            "\u001b[1m\u001b[33m Downgrading\u001b[0m http v1.3.1 -> v0.2.12\n",
            "\u001b[1m\u001b[33m Downgrading\u001b[0m http-body v1.0.1 -> v0.4.6\n",
            "\u001b[1m\u001b[36m      Adding\u001b[0m httpdate v1.0.3\n",
            "\u001b[1m\u001b[33m Downgrading\u001b[0m hyper v1.7.0 -> v0.14.32\n",
            "\u001b[1m\u001b[33m Downgrading\u001b[0m hyper-tls v0.6.0 -> v0.5.0\n",
            "\u001b[1m\u001b[33m Downgrading\u001b[0m reqwest v0.12.23 -> v0.11.27 \u001b[1m\u001b[33m(available: v0.12.23)\u001b[0m\n",
            "\u001b[1m\u001b[36m      Adding\u001b[0m rustls-pemfile v1.0.4\n",
            "\u001b[1m\u001b[36m      Adding\u001b[0m socket2 v0.5.10\n",
            "\u001b[1m\u001b[33m Downgrading\u001b[0m sync_wrapper v1.0.2 -> v0.1.2\n",
            "\u001b[1m\u001b[33m Downgrading\u001b[0m system-configuration v0.6.1 -> v0.5.1\n",
            "\u001b[1m\u001b[33m Downgrading\u001b[0m system-configuration-sys v0.6.0 -> v0.5.0\n",
            "\u001b[1m\u001b[36m      Adding\u001b[0m windows-sys v0.48.0\n",
            "\u001b[1m\u001b[36m      Adding\u001b[0m windows-targets v0.48.5\n",
            "\u001b[1m\u001b[36m      Adding\u001b[0m windows_aarch64_gnullvm v0.48.5\n",
            "\u001b[1m\u001b[36m      Adding\u001b[0m windows_aarch64_msvc v0.48.5\n",
            "\u001b[1m\u001b[36m      Adding\u001b[0m windows_i686_gnu v0.48.5\n",
            "\u001b[1m\u001b[36m      Adding\u001b[0m windows_i686_msvc v0.48.5\n",
            "\u001b[1m\u001b[36m      Adding\u001b[0m windows_x86_64_gnu v0.48.5\n",
            "\u001b[1m\u001b[36m      Adding\u001b[0m windows_x86_64_gnullvm v0.48.5\n",
            "\u001b[1m\u001b[36m      Adding\u001b[0m windows_x86_64_msvc v0.48.5\n",
            "\u001b[1m\u001b[36m      Adding\u001b[0m winreg v0.50.0\n",
            "\u001b[1m\u001b[32m Downloading\u001b[0m crates ...\n",
            "\u001b[1m\u001b[32m  Downloaded\u001b[0m rustls-pemfile v1.0.4\n",
            "\u001b[1m\u001b[32m  Downloaded\u001b[0m hyper-tls v0.5.0\n",
            "\u001b[1m\u001b[32m  Downloaded\u001b[0m hyper v0.14.32\n",
            "\u001b[1m\u001b[32m  Downloaded\u001b[0m h2 v0.3.27\n",
            "\u001b[1m\u001b[32m  Downloaded\u001b[0m reqwest v0.11.27\n",
            "\u001b[1m\u001b[32m  Downloaded\u001b[0m socket2 v0.5.10\n",
            "\u001b[1m\u001b[32m  Downloaded\u001b[0m http-body v0.4.6\n",
            "\u001b[1m\u001b[32m  Downloaded\u001b[0m http v0.2.12\n",
            "\u001b[1m\u001b[32m  Downloaded\u001b[0m sync_wrapper v0.1.2\n",
            "\u001b[1m\u001b[32m  Downloaded\u001b[0m base64 v0.21.7\n",
            "\u001b[1m\u001b[32m  Downloaded\u001b[0m httpdate v1.0.3\n",
            "\u001b[1m\u001b[32m   Compiling\u001b[0m proc-macro2 v1.0.101\n",
            "\u001b[1m\u001b[32m   Compiling\u001b[0m unicode-ident v1.0.18\n",
            "\u001b[1m\u001b[32m   Compiling\u001b[0m libc v0.2.175\n",
            "\u001b[1m\u001b[32m   Compiling\u001b[0m quote v1.0.40\n",
            "\u001b[1m\u001b[32m   Compiling\u001b[0m syn v2.0.106\n",
            "\u001b[1m\u001b[32m   Compiling\u001b[0m stable_deref_trait v1.2.0\n",
            "\u001b[1m\u001b[32m   Compiling\u001b[0m smallvec v1.15.1\n",
            "\u001b[1m\u001b[32m   Compiling\u001b[0m cfg-if v1.0.3\n",
            "\u001b[1m\u001b[32m   Compiling\u001b[0m shlex v1.3.0\n",
            "\u001b[1m\u001b[32m   Compiling\u001b[0m find-msvc-tools v0.1.1\n",
            "\u001b[1m\u001b[32m   Compiling\u001b[0m autocfg v1.5.0\n",
            "\u001b[1m\u001b[32m   Compiling\u001b[0m lock_api v0.4.13\n",
            "\u001b[1m\u001b[32m   Compiling\u001b[0m cc v1.2.36\n",
            "\u001b[1m\u001b[32m   Compiling\u001b[0m parking_lot_core v0.9.11\n",
            "\u001b[1m\u001b[32m   Compiling\u001b[0m pkg-config v0.3.32\n",
            "\u001b[1m\u001b[32m   Compiling\u001b[0m pin-project-lite v0.2.16\n",
            "\u001b[1m\u001b[32m   Compiling\u001b[0m vcpkg v0.2.15\n",
            "\u001b[1m\u001b[32m   Compiling\u001b[0m synstructure v0.13.2\n",
            "\u001b[1m\u001b[32m   Compiling\u001b[0m openssl-sys v0.9.109\n",
            "\u001b[1m\u001b[32m   Compiling\u001b[0m scopeguard v1.2.0\n",
            "\u001b[1m\u001b[32m   Compiling\u001b[0m bytes v1.10.1\n",
            "\u001b[1m\u001b[32m   Compiling\u001b[0m zerofrom-derive v0.1.6\n",
            "\u001b[1m\u001b[32m   Compiling\u001b[0m yoke-derive v0.8.0\n",
            "\u001b[1m\u001b[32m   Compiling\u001b[0m zerofrom v0.1.6\n",
            "\u001b[1m\u001b[32m   Compiling\u001b[0m zerovec-derive v0.11.1\n",
            "\u001b[1m\u001b[32m   Compiling\u001b[0m yoke v0.8.0\n",
            "\u001b[1m\u001b[32m   Compiling\u001b[0m displaydoc v0.2.5\n",
            "\u001b[1m\u001b[32m   Compiling\u001b[0m once_cell v1.21.3\n",
            "\u001b[1m\u001b[32m   Compiling\u001b[0m zerovec v0.11.4\n",
            "\u001b[1m\u001b[32m   Compiling\u001b[0m litemap v0.8.0\n",
            "\u001b[1m\u001b[32m   Compiling\u001b[0m itoa v1.0.15\n",
            "\u001b[1m\u001b[32m   Compiling\u001b[0m writeable v0.6.1\n",
            "\u001b[1m\u001b[32m   Compiling\u001b[0m tinystr v0.8.1\n",
            "\u001b[1m\u001b[32m   Compiling\u001b[0m potential_utf v0.1.3\n",
            "\u001b[1m\u001b[32m   Compiling\u001b[0m icu_locale_core v2.0.0\n",
            "\u001b[1m\u001b[32m   Compiling\u001b[0m parking_lot v0.12.4\n",
            "\u001b[1m\u001b[32m   Compiling\u001b[0m zerotrie v0.2.2\n",
            "\u001b[1m\u001b[32m   Compiling\u001b[0m tokio-macros v2.5.0\n",
            "\u001b[1m\u001b[32m   Compiling\u001b[0m mio v1.0.4\n",
            "\u001b[1m\u001b[32m   Compiling\u001b[0m socket2 v0.6.0\n",
            "\u001b[1m\u001b[32m   Compiling\u001b[0m signal-hook-registry v1.4.6\n",
            "\u001b[1m\u001b[32m   Compiling\u001b[0m icu_normalizer_data v2.0.0\n",
            "\u001b[1m\u001b[32m   Compiling\u001b[0m futures-core v0.3.31\n",
            "\u001b[1m\u001b[32m   Compiling\u001b[0m icu_properties_data v2.0.1\n",
            "\u001b[1m\u001b[32m   Compiling\u001b[0m tokio v1.47.1\n",
            "\u001b[1m\u001b[32m   Compiling\u001b[0m icu_provider v2.0.0\n",
            "\u001b[1m\u001b[32m   Compiling\u001b[0m icu_collections v2.0.0\n",
            "\u001b[1m\u001b[32m   Compiling\u001b[0m foreign-types-shared v0.1.1\n",
            "\u001b[1m\u001b[32m   Compiling\u001b[0m openssl v0.10.73\n",
            "\u001b[1m\u001b[32m   Compiling\u001b[0m fnv v1.0.7\n",
            "\u001b[1m\u001b[32m   Compiling\u001b[0m serde v1.0.219\n",
            "\u001b[1m\u001b[32m   Compiling\u001b[0m http v0.2.12\n",
            "\u001b[1m\u001b[32m   Compiling\u001b[0m foreign-types v0.3.2\n",
            "\u001b[1m\u001b[32m   Compiling\u001b[0m tracing-core v0.1.34\n",
            "\u001b[1m\u001b[32m   Compiling\u001b[0m serde_derive v1.0.219\n",
            "\u001b[1m\u001b[32m   Compiling\u001b[0m openssl-macros v0.1.1\n",
            "\u001b[1m\u001b[32m   Compiling\u001b[0m pin-utils v0.1.0\n",
            "\u001b[1m\u001b[32m   Compiling\u001b[0m httparse v1.10.1\n",
            "\u001b[1m\u001b[32m   Compiling\u001b[0m futures-task v0.3.31\n",
            "\u001b[1m\u001b[32m   Compiling\u001b[0m native-tls v0.2.14\n",
            "\u001b[1m\u001b[32m   Compiling\u001b[0m equivalent v1.0.2\n",
            "\u001b[1m\u001b[32m   Compiling\u001b[0m hashbrown v0.15.5\n",
            "\u001b[1m\u001b[32m   Compiling\u001b[0m futures-sink v0.3.31\n",
            "\u001b[1m\u001b[32m   Compiling\u001b[0m bitflags v2.9.4\n",
            "\u001b[1m\u001b[32m   Compiling\u001b[0m indexmap v2.11.0\n",
            "\u001b[1m\u001b[32m   Compiling\u001b[0m tokio-util v0.7.16\n",
            "\u001b[1m\u001b[32m   Compiling\u001b[0m futures-util v0.3.31\n",
            "\u001b[1m\u001b[32m   Compiling\u001b[0m tracing v0.1.41\n",
            "\u001b[1m\u001b[32m   Compiling\u001b[0m icu_normalizer v2.0.0\n",
            "\u001b[1m\u001b[32m   Compiling\u001b[0m icu_properties v2.0.1\n",
            "\u001b[1m\u001b[32m   Compiling\u001b[0m log v0.4.28\n",
            "\u001b[1m\u001b[32m   Compiling\u001b[0m try-lock v0.2.5\n",
            "\u001b[1m\u001b[32m   Compiling\u001b[0m percent-encoding v2.3.2\n",
            "\u001b[1m\u001b[32m   Compiling\u001b[0m slab v0.4.11\n",
            "\u001b[1m\u001b[32m   Compiling\u001b[0m openssl-probe v0.1.6\n",
            "\u001b[1m\u001b[32m   Compiling\u001b[0m h2 v0.3.27\n",
            "\u001b[1m\u001b[32m   Compiling\u001b[0m form_urlencoded v1.2.2\n",
            "\u001b[1m\u001b[32m   Compiling\u001b[0m want v0.3.1\n",
            "\u001b[1m\u001b[32m   Compiling\u001b[0m idna_adapter v1.2.1\n",
            "\u001b[1m\u001b[32m   Compiling\u001b[0m http-body v0.4.6\n",
            "\u001b[1m\u001b[32m   Compiling\u001b[0m futures-channel v0.3.31\n",
            "\u001b[1m\u001b[32m   Compiling\u001b[0m socket2 v0.5.10\n",
            "\u001b[1m\u001b[32m   Compiling\u001b[0m serde_json v1.0.143\n",
            "\u001b[1m\u001b[32m   Compiling\u001b[0m utf8_iter v1.0.4\n",
            "\u001b[1m\u001b[32m   Compiling\u001b[0m ryu v1.0.20\n",
            "\u001b[1m\u001b[32m   Compiling\u001b[0m httpdate v1.0.3\n",
            "\u001b[1m\u001b[32m   Compiling\u001b[0m tower-service v0.3.3\n",
            "\u001b[1m\u001b[32m   Compiling\u001b[0m idna v1.1.0\n",
            "\u001b[1m\u001b[32m   Compiling\u001b[0m hyper v0.14.32\n",
            "\u001b[1m\u001b[32m   Compiling\u001b[0m tokio-native-tls v0.3.1\n",
            "\u001b[1m\u001b[32m   Compiling\u001b[0m base64 v0.21.7\n",
            "\u001b[1m\u001b[32m   Compiling\u001b[0m memchr v2.7.5\n",
            "\u001b[1m\u001b[32m   Compiling\u001b[0m hyper-tls v0.5.0\n",
            "\u001b[1m\u001b[32m   Compiling\u001b[0m rustls-pemfile v1.0.4\n",
            "\u001b[1m\u001b[32m   Compiling\u001b[0m url v2.5.7\n",
            "\u001b[1m\u001b[32m   Compiling\u001b[0m serde_urlencoded v0.7.1\n",
            "\u001b[1m\u001b[32m   Compiling\u001b[0m encoding_rs v0.8.35\n",
            "\u001b[1m\u001b[32m   Compiling\u001b[0m mime v0.3.17\n",
            "\u001b[1m\u001b[32m   Compiling\u001b[0m sync_wrapper v0.1.2\n",
            "\u001b[1m\u001b[32m   Compiling\u001b[0m ipnet v2.11.0\n",
            "\u001b[1m\u001b[32m   Compiling\u001b[0m reqwest v0.11.27\n",
            "\u001b[1m\u001b[32m   Compiling\u001b[0m rust_llama_chat v0.1.0 (/content/rust_llama_chat)\n",
            "\u001b[1m\u001b[32m    Finished\u001b[0m `dev` profile [unoptimized + debuginfo] target(s) in 1m 28s\n"
          ]
        }
      ]
    },
    {
      "cell_type": "code",
      "source": [
        "/content/rust_llama_chat/Cargo.toml\n",
        "[package]\n",
        "name = \"rust_llama_chat\"\n",
        "version = \"0.1.0\"\n",
        "edition = \"2024\"\n",
        "\n",
        "[dependencies]\n",
        "reqwest = { version = \"0.11\", features = [\"json\"] }\n",
        "tokio = { version = \"1\", features = [\"full\"] }\n",
        "serde = { version = \"1.0\", features = [\"derive\"] }\n",
        "\n",
        "\n"
      ],
      "metadata": {
        "id": "8127DhZw9Hrl"
      },
      "execution_count": null,
      "outputs": []
    },
    {
      "cell_type": "code",
      "source": [
        "/content/rust_llama_chat/src/main.rs\n",
        "\n",
        "use reqwest::Client;\n",
        "use serde::{Deserialize, Serialize};\n",
        "use std::io::{self, Write};\n",
        "\n",
        "#[derive(Serialize)]\n",
        "struct OllamaRequest {\n",
        "    model: String,\n",
        "    prompt: String,\n",
        "    stream: bool,\n",
        "}\n",
        "\n",
        "#[derive(Deserialize)]\n",
        "struct OllamaResponse {\n",
        "    response: String,\n",
        "}\n",
        "\n",
        "#[tokio::main]\n",
        "async fn main() -> Result<(), Box<dyn std::error::Error>> {\n",
        "    let client = Client::new();\n",
        "    let model = \"llama3.2:latest\";\n",
        "    let url = \"http://localhost:11434/api/generate\";\n",
        "\n",
        "    println!(\"🦀 مرحبًا بك في شات Rust مع Llama 3.2!\");\n",
        "    loop {\n",
        "        print!(\"أنت: \");\n",
        "        io::stdout().flush()?;\n",
        "        let mut input = String::new();\n",
        "        io::stdin().read_line(&mut input)?;\n",
        "\n",
        "        let input = input.trim();\n",
        "        if input == \"exit\" {\n",
        "            println!(\"👋 تم إغلاق الشات.\");\n",
        "            break;\n",
        "        }\n",
        "\n",
        "        let request_body = OllamaRequest {\n",
        "            model: model.to_string(),\n",
        "            prompt: input.to_string(),\n",
        "            stream: false,\n",
        "        };\n",
        "\n",
        "        let response = client\n",
        "            .post(url)\n",
        "            .json(&request_body)\n",
        "            .send()\n",
        "            .await?\n",
        "            .json::<OllamaResponse>()\n",
        "            .await?;\n",
        "\n",
        "        println!(\"🤖 Llama: {}\", response.response);\n",
        "    }\n",
        "\n",
        "    Ok(())\n",
        "}"
      ],
      "metadata": {
        "id": "axRg5MyE9Tv2"
      },
      "execution_count": null,
      "outputs": []
    },
    {
      "cell_type": "code",
      "source": [
        "!source \"$HOME/.cargo/env\" && cargo run"
      ],
      "metadata": {
        "colab": {
          "base_uri": "https://localhost:8080/"
        },
        "id": "CGB54a_G8PWt",
        "outputId": "8940b242-70a8-4020-bb22-6e9a2897158c"
      },
      "execution_count": 11,
      "outputs": [
        {
          "output_type": "stream",
          "name": "stdout",
          "text": [
            "\u001b[1m\u001b[32m    Finished\u001b[0m `dev` profile [unoptimized + debuginfo] target(s) in 0.14s\n",
            "\u001b[1m\u001b[32m     Running\u001b[0m `target/debug/rust_llama_chat`\n",
            "🦀 مرحبًا بك في شات Rust مع Llama 3.2!\n",
            "أنت: what is rust?\n",
            "🤖 Llama: Rust is a programming language that aims to provide memory safety and performance similar to C++ or C#. It was created by Mozilla Research in the early 2000s as a result of their experience with the Rust project. The main goal of the Rust language is to eliminate common issues such as buffer overflows, data races, and use-after-free errors that can occur when writing code in languages like C or C++.\n",
            "\n",
            "Rust's design focuses on several key principles:\n",
            "\n",
            "1. **Memory Safety**: This means ensuring that a program will not crash because of memory-related bugs.\n",
            "2. **Performance**: Rust is designed to be fast, making it suitable for systems programming and other performance-critical applications.\n",
            "3. **Concurrency**: Rust provides strong support for writing concurrent programs.\n",
            "\n",
            "Here are some key features that make Rust stand out:\n",
            "\n",
            "*   **Ownership System**: This system enforces a zero-copy mechanism by which a value can't be moved between references.\n",
            "*   **Borrow Checker**: The compiler checks at compile time whether the usage of borrowed data will result in a violation of ownership rules.\n",
            "*   **Pattern Matching**: A powerful and expressive pattern matching mechanism that allows you to handle different cases in your code.\n",
            "*   **Error Handling**: Rust's error handling is based on Result, which can be used as a type-safe alternative to C++'s try-catch.\n",
            "\n",
            "Rust's design philosophy emphasizes the importance of compile-time checks over runtime checks. This results in a slower compilation time compared to languages like C or C++, but it also means that the compiler will catch many errors before they even reach runtime, which improves overall code quality and reliability.\n",
            "\n",
            "Overall, Rust is an excellent choice for systems programming and other applications where performance, memory safety, and concurrency are crucial.\n",
            "أنت: exit\n",
            "👋 تم إغلاق الشات.\n"
          ]
        }
      ]
    },
    {
      "cell_type": "markdown",
      "source": [
        "### شغال"
      ],
      "metadata": {
        "id": "ra5JJDd_9mPF"
      }
    },
    {
      "cell_type": "markdown",
      "source": [
        "##################################"
      ],
      "metadata": {
        "id": "lWS6VnsA9w0-"
      }
    }
  ]
}